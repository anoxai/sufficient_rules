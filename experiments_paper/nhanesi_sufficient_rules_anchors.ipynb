{
 "cells": [
  {
   "cell_type": "code",
   "execution_count": 1,
   "id": "8177c991",
   "metadata": {},
   "outputs": [
    {
     "name": "stdout",
     "output_type": "stream",
     "text": [
      "# Demonstration: NHANESI\n",
      "| | Feature | Type | Value | Mutable |\n",
      "| --- | --- | --- | :---: | :---: |\n",
      "| 1 | Age | Integer | [25, 74] | True |\n",
      "| 2 | Diastolic_BP | Integer | [34, 180] | True |\n",
      "| 3 | Poverty_index | Integer | [2, 999] | True |\n",
      "| 4 | Red_blood_cells | Continuous | [25.0000, 88.0000] | True |\n",
      "| 4 | Red_blood_cells | Integer | [25, 88] | True |\n",
      "| 5 | Sedimentation_rate | Integer | [1, 72] | True |\n",
      "| 6 | Serum_Albumin | Integer | [2, 5] | True |\n",
      "| 7 | Serum_Cholesterol | Integer | [53, 793] | True |\n",
      "| 8 | Serum_Iron | Integer | [17, 396] | True |\n",
      "| 9 | Serum_Magnesium | Continuous | [0.0000, 2.0000] | True |\n",
      "| 9 | Serum_Magnesium | Integer | [0, 2] | True |\n",
      "| 10 | Serum_Protein | Continuous | [4.0000, 11.0000] | True |\n",
      "| 10 | Serum_Protein | Integer | [4, 11] | True |\n",
      "| 11 | Systolic_BP | Integer | [80, 270] | True |\n",
      "| 12 | TIBC | Integer | [168, 717] | True |\n",
      "| 13 | TS | Continuous | [3.0000, 100.0000] | True |\n",
      "| 13 | TS | Integer | [3, 100] | True |\n",
      "| 14 | White_blood_cells | Continuous | [2.0000, 56.0000] | True |\n",
      "| 14 | White_blood_cells | Integer | [2, 56] | True |\n",
      "| 15 | BMI | Continuous | [12.0000, 72.0000] | True |\n",
      "| 15 | BMI | Integer | [12, 72] | True |\n",
      "| 16 | Pulse_pressure | Integer | [10, 150] | True |\n",
      "| 17 | Sex:Female | Bool | {False: 0, True: 1} | False |\n",
      "\n"
     ]
    }
   ],
   "source": [
    "import numpy as np\n",
    "from acv_explainers import ACXplainer\n",
    "from acv_explainers.utils import *\n",
    "from sklearn.linear_model import LogisticRegression\n",
    "from lightgbm import LGBMClassifier\n",
    "from utils import MyTabNetClassifier\n",
    "from utils import DatasetHelper, DATASETS_NAME\n",
    "from sklearn.metrics import roc_auc_score, accuracy_score\n",
    "import warnings\n",
    "warnings.filterwarnings('ignore')\n",
    "\n",
    "# Load datasets\n",
    "\n",
    "GAMMA = 1.0\n",
    "dataset = 'n'\n",
    "dataset_name = DATASETS_NAME[dataset]\n",
    "model= 'X'\n",
    "\n",
    "np.random.seed(0)\n",
    "LAMBDA = 0.01\n",
    "GAMMA = 1.0\n",
    "\n",
    "D = DatasetHelper(dataset=dataset, feature_prefix_index=False)\n",
    "\n",
    "for i in range(len(D.feature_names)):\n",
    "    D.feature_names[i] = D.feature_names[i].replace(\" \", \"\")\n",
    "    \n",
    "columns_names = D.feature_names\n",
    "columns_id = {}\n",
    "for i, col in enumerate(columns_names):\n",
    "    columns_id[col] = i\n",
    "columns_id\n",
    "\n",
    "    \n",
    "print('# Demonstration:', D.dataset_fullname)\n",
    "print(D.to_markdown())"
   ]
  },
  {
   "cell_type": "code",
   "execution_count": null,
   "id": "37863c97",
   "metadata": {},
   "outputs": [],
   "source": [
    "## run the following line to run experiment and get results\n",
    "\n",
    "# X_tr, X_ts, y_tr, y_ts = D.train_test_split()\n",
    "\n",
    "# if(model=='L'):\n",
    "#     print('* Classifier: LogisticRegression')\n",
    "#     mdl = LogisticRegression(penalty='l2', C=1.0, solver='liblinear')\n",
    "#     print('\\t* C: {}'.format(mdl.C)); print('\\t* penalty: {}'.format(mdl.penalty));\n",
    "# elif(model=='X'):\n",
    "#     print('* Classifier: LightGBM')\n",
    "#     mdl = LGBMClassifier(n_estimators=50, num_leaves=8)\n",
    "#     print('\\t* n_estimators: {}'.format(mdl.n_estimators)); print('\\t* num_leaves: {}'.format(mdl.num_leaves));\n",
    "# elif(model=='T'):\n",
    "#     print('* Classifier: TabNet')\n",
    "#     mdl = MyTabNetClassifier(D.feature_types, verbose=0)\n",
    "    \n",
    "# mdl = mdl.fit(X_tr, y_tr, X_vl=X_ts, y_vl=y_ts) if model=='T' else mdl.fit(X_tr, y_tr)\n",
    "# X = X_tr[mdl.predict(X_tr)==1]; X_vl = X_ts[mdl.predict(X_ts)==1];\n",
    "# print('\\t* train score: ', mdl.score(X_tr, y_tr)); print('\\t* train denied: ', X.shape[0]);\n",
    "# print('\\t* test score: ', mdl.score(X_ts, y_ts)); print('\\t* test denied: ', X_vl.shape[0]); print();\n",
    "\n",
    "# x_train = X_tr.copy()\n",
    "# x_test = X_ts.copy()\n",
    "# y_train = mdl.predict(X_tr)\n",
    "# y_test = mdl.predict(X_ts)\n",
    "\n",
    "# ### Train Explainer (ACXplainer)\n",
    "# ac_explainer = ACXplainer(classifier=True, n_estimators=20, max_depth=12)\n",
    "# ac_explainer.fit(x_train, y_train)\n",
    "\n",
    "# print('# Trained ACXplainer -- score = {}'.format(accuracy_score(y_test, ac_explainer.predict(x_test))))\n",
    "\n",
    "# x, y = x_test[:500], y_test[:500]\n",
    "# x_rules, y_rules = x_train[:1000], y_train[:1000]\n",
    "\n",
    "# columns_name = D.feature_names\n",
    "\n",
    "# results = RunExperiments(ac_explainer, x_train, x_test, y_train, y_test, columns_name, model=mdl)\n",
    "\n",
    "# results.run_sufficient_rules(x_rules, y_rules, pi_level=0.9)"
   ]
  },
  {
   "cell_type": "code",
   "execution_count": 2,
   "id": "b167d346",
   "metadata": {},
   "outputs": [],
   "source": [
    "results = load_model('NHANESICR_results'.format(dataset_name))"
   ]
  },
  {
   "cell_type": "code",
   "execution_count": 3,
   "id": "295cdc93",
   "metadata": {},
   "outputs": [],
   "source": [
    "def get_sr_results(x_test, rules, x_rules, y_rules, s_star, predict):\n",
    "    N = rules.shape[0]\n",
    "    d = rules.shape[1]\n",
    "    \n",
    "    coverages = []\n",
    "    accuracies = []\n",
    "    supports = []\n",
    "    for idx in tqdm(range(N)):\n",
    "        x_in = np.prod([(x_test[:, s] <= rules[idx, s, 1]) * (x_test[:, s] > rules[idx, s, 0])\n",
    "                        for s in range(d)], axis=0).astype(bool)\n",
    "        \n",
    "        if  np.sum(x_in) == 0:\n",
    "            continue\n",
    "            \n",
    "        coverage = np.mean(x_in)\n",
    "        accuracy = np.mean(predict(x_test[x_in]) == y_rules[idx].reshape(1, -1))\n",
    "        \n",
    "        coverages.append(coverage)\n",
    "        accuracies.append(accuracy)\n",
    "        supports.append(len(s_star[idx]))\n",
    "        \n",
    "    return coverages, accuracies, supports, rules"
   ]
  },
  {
   "cell_type": "code",
   "execution_count": 4,
   "id": "4216d568",
   "metadata": {},
   "outputs": [
    {
     "name": "stderr",
     "output_type": "stream",
     "text": [
      "100%|██████████████████████████████████████| 1000/1000 [00:03<00:00, 295.83it/s]\n"
     ]
    }
   ],
   "source": [
    "coverages_sr, accuracies_sr, supports_sr, rules_sr = get_sr_results(results.x_test, results.rules, results.x_rules, results.y_rules,\n",
    "                                                                        results.S_star_se, results.acv_explainer.predict)"
   ]
  },
  {
   "cell_type": "code",
   "execution_count": 5,
   "id": "1fc73090",
   "metadata": {},
   "outputs": [
    {
     "name": "stdout",
     "output_type": "stream",
     "text": [
      "SR: Coverage = 0.19531689157747786 - Accuracy = 0.9393303926852224 - Support = 1.116\n"
     ]
    }
   ],
   "source": [
    "N = results.rules.shape[0]\n",
    "print('SR: Coverage = {} - Accuracy = {} - Support = {}'.format(np.sum(coverages_sr)/N, np.sum(accuracies_sr)/N, \n",
    "                                                            np.sum(supports_sr)/N))\n"
   ]
  },
  {
   "cell_type": "code",
   "execution_count": 6,
   "id": "fd6e070c",
   "metadata": {},
   "outputs": [
    {
     "name": "stdout",
     "output_type": "stream",
     "text": [
      "SR STD: Coverage = 0.03292982921235735 - Accuracy = 0.0012883644693251137 - Support = 0.21367756232686982\n"
     ]
    }
   ],
   "source": [
    "print('SR STD: Coverage = {} - Accuracy = {} - Support = {}'.format(np.var(coverages_sr), np.var(accuracies_sr), \n",
    "                                                            np.var(supports_sr)))\n"
   ]
  },
  {
   "cell_type": "code",
   "execution_count": 8,
   "id": "54cfdd82",
   "metadata": {},
   "outputs": [],
   "source": [
    "from anchor import utils\n",
    "from anchor import anchor_tabular"
   ]
  },
  {
   "cell_type": "code",
   "execution_count": 10,
   "id": "997f24ba",
   "metadata": {},
   "outputs": [],
   "source": [
    "explainer = anchor_tabular.AnchorTabularExplainer(\n",
    "    D.target_labels,\n",
    "    D.feature_names,\n",
    "    results.x_train\n",
    "    )"
   ]
  },
  {
   "cell_type": "code",
   "execution_count": 11,
   "id": "ab7173ed",
   "metadata": {},
   "outputs": [],
   "source": [
    "def get_anchor_results(explainer, x_test, x_train, predict, pi, columns_id):\n",
    "    N = x_train.shape[0]\n",
    "    d = x_train.shape[1]\n",
    "    rules = np.ones(shape=(N, d, 2))\n",
    "    rules[:, :, 0] = -1e+10\n",
    "    rules[:, :, 1] = 1e+10\n",
    "    \n",
    "    coverages = []\n",
    "    accuracies = []\n",
    "    supports = []\n",
    "    for idx in tqdm(range(N)):\n",
    "        exp = explainer.explain_instance(x_train[idx], predict, threshold=pi)\n",
    "        for r in exp.names():\n",
    "            r_split = r.split()\n",
    "            \n",
    "            if len(r_split) == 3:\n",
    "                col_id = columns_id[r_split[0]]\n",
    "                if r_split[1] == '<' or r_split[1] == '<=':\n",
    "                    rules[idx, col_id, 1] = r_split[2]\n",
    "                elif r_split[1] == '>' or r_split[1] == '>=':\n",
    "                    rules[idx, col_id, 0] = r_split[2]\n",
    "                else:\n",
    "                    raise ValueError\n",
    "            elif len(r_split) == 5:\n",
    "                col_id = columns_id[r_split[2]]\n",
    "                rules[idx, col_id, 0] = r_split[0]\n",
    "                rules[idx, col_id, 0] = r_split[-1]\n",
    "            else:\n",
    "                raise ValueError\n",
    "\n",
    "        x_train_in = np.prod([(x_train[:, s] <= rules[idx, s, 1]) * (x_train[:, s] > rules[idx, s, 0])\n",
    "                        for s in range(d)], axis=0).astype(bool)\n",
    "        x_in = np.prod([(x_test[:, s] <= rules[idx, s, 1]) * (x_test[:, s] > rules[idx, s, 0])\n",
    "                        for s in range(d)], axis=0).astype(bool)\n",
    "        \n",
    "        if np.sum(x_train_in) * np.sum(x_in) == 0:\n",
    "            continue\n",
    "            \n",
    "#         if np.abs(np.mean(x_train_in)-exp.coverage())>0.01:\n",
    "#             print(r)\n",
    "#             print(np.mean(x_train_in), exp.coverage())\n",
    "#             raise Warning('Inconsistency of the rules for this obs')\n",
    "            \n",
    "        \n",
    "        coverage = np.mean(x_in)\n",
    "        accuracy = np.mean(predict(x_test[x_in]) == predict(x_train[idx].reshape(1, -1)))\n",
    "        \n",
    "        coverages.append(coverage)\n",
    "        accuracies.append(accuracy)\n",
    "        supports.append(len(exp.names()))\n",
    "        \n",
    "    return coverages, accuracies, supports, rules\n",
    "\n",
    "        "
   ]
  },
  {
   "cell_type": "code",
   "execution_count": 12,
   "id": "99b4120b",
   "metadata": {},
   "outputs": [
    {
     "name": "stderr",
     "output_type": "stream",
     "text": [
      "100%|███████████████████████████████████████| 1000/1000 [14:59<00:00,  1.11it/s]\n"
     ]
    }
   ],
   "source": [
    "coverages, accuracies, supports, rules = get_anchor_results(explainer, results.x_test, results.x_rules, \n",
    "                                                            results.acv_explainer.predict, pi=0.9, columns_id=columns_id)"
   ]
  },
  {
   "cell_type": "code",
   "execution_count": 13,
   "id": "4905e1a8",
   "metadata": {},
   "outputs": [
    {
     "name": "stdout",
     "output_type": "stream",
     "text": [
      "ANCHORS: Coverage = 0.3115430432759423 - Accuracy = 0.9628326875409782 - Support = 1.789\n"
     ]
    }
   ],
   "source": [
    "# N = x_test.shape[0]\n",
    "# N = 500\n",
    "print('ANCHORS: Coverage = {} - Accuracy = {} - Support = {}'.format(np.sum(coverages)/N, np.sum(accuracies)/N, \n",
    "                                                            np.sum(supports)/N))\n"
   ]
  },
  {
   "cell_type": "code",
   "execution_count": 14,
   "id": "b13ed9c4",
   "metadata": {},
   "outputs": [
    {
     "name": "stdout",
     "output_type": "stream",
     "text": [
      "ANCHORS STD: Coverage = 0.022814540055256037 - Accuracy = 0.001992569382718743 - Support = 4.343849388394932\n"
     ]
    }
   ],
   "source": [
    "# N = x_test.shape[0]\n",
    "# N = 500\n",
    "print('ANCHORS STD: Coverage = {} - Accuracy = {} - Support = {}'.format(np.var(coverages), np.var(accuracies), \n",
    "                                                            np.var(supports)))\n"
   ]
  },
  {
   "cell_type": "code",
   "execution_count": 60,
   "id": "cda978a6",
   "metadata": {},
   "outputs": [
    {
     "data": {
      "text/plain": [
       "<AxesSubplot:ylabel='count'>"
      ]
     },
     "execution_count": 60,
     "metadata": {},
     "output_type": "execute_result"
    },
    {
     "data": {
      "image/png": "[encoded data removed]",
      "text/plain": [
       "<Figure size 1440x720 with 2 Axes>"
      ]
     },
     "metadata": {
      "needs_background": "light"
     },
     "output_type": "display_data"
    }
   ],
   "source": [
    "fig, ax = plt.subplots(1, 2, figsize=(20, 10))\n",
    "sns.countplot(ax = ax[0], x=supports)\n",
    "sns.countplot(ax = ax[1], x=supports_sr)"
   ]
  },
  {
   "cell_type": "code",
   "execution_count": 65,
   "id": "c7b791e0",
   "metadata": {},
   "outputs": [],
   "source": [
    "unique, count = np.unique(supports, return_counts=True)\n",
    "unique_sr, count_sr = np.unique(supports_sr, return_counts=True)"
   ]
  },
  {
   "cell_type": "code",
   "execution_count": 66,
   "id": "c7ce97b6",
   "metadata": {},
   "outputs": [],
   "source": [
    "count_support = dict(zip(unique, count))\n",
    "count_support_sr = dict(zip(unique_sr, count_sr))"
   ]
  },
  {
   "cell_type": "code",
   "execution_count": 67,
   "id": "d24e3c8d",
   "metadata": {},
   "outputs": [
    {
     "data": {
      "text/plain": [
       "{1: 726,\n",
       " 2: 126,\n",
       " 3: 49,\n",
       " 4: 11,\n",
       " 5: 12,\n",
       " 6: 10,\n",
       " 7: 5,\n",
       " 8: 15,\n",
       " 9: 6,\n",
       " 10: 14,\n",
       " 11: 4,\n",
       " 12: 3,\n",
       " 13: 2,\n",
       " 14: 1,\n",
       " 15: 1,\n",
       " 16: 1}"
      ]
     },
     "execution_count": 67,
     "metadata": {},
     "output_type": "execute_result"
    }
   ],
   "source": [
    "count_support"
   ]
  },
  {
   "cell_type": "code",
   "execution_count": 68,
   "id": "4bb978ba",
   "metadata": {},
   "outputs": [
    {
     "data": {
      "text/plain": [
       "{1: 809, 2: 123, 3: 12, 4: 5, 5: 1}"
      ]
     },
     "execution_count": 68,
     "metadata": {},
     "output_type": "execute_result"
    }
   ],
   "source": [
    "count_support_sr"
   ]
  }
 ],
 "metadata": {
  "kernelspec": {
   "display_name": "Python 3 (ipykernel)",
   "language": "python",
   "name": "python3"
  },
  "language_info": {
   "codemirror_mode": {
    "name": "ipython",
    "version": 3
   },
   "file_extension": ".py",
   "mimetype": "text/x-python",
   "name": "python",
   "nbconvert_exporter": "python",
   "pygments_lexer": "ipython3",
   "version": "3.8.13"
  }
 },
 "nbformat": 4,
 "nbformat_minor": 5
}
