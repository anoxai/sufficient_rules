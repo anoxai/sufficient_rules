{
 "cells": [
  {
   "cell_type": "code",
   "execution_count": 71,
   "id": "8177c991",
   "metadata": {},
   "outputs": [
    {
     "name": "stdout",
     "output_type": "stream",
     "text": [
      "# Demonstration: EmployeeAttrition\n",
      "| | Feature | Type | Value | Mutable |\n",
      "| --- | --- | --- | :---: | :---: |\n",
      "| 1 | Age | Integer | [18, 60] | False |\n",
      "| 2 | BusinessTravel | Integer | [0, 2] | True |\n",
      "| 3 | Education | Integer | [1, 5] | False |\n",
      "| 4 | JobLevel | Integer | [1, 5] | False |\n",
      "| 5 | MonthlyIncome | Integer | [1009, 19999] | True |\n",
      "| 6 | OverTime | Bool | {False: 0, True: 1} | True |\n",
      "| 7 | PercentSalaryHike | Integer | [11, 25] | True |\n",
      "| 8 | OutstandingPerformanceRating | Bool | {False: 0, True: 1} | False |\n",
      "| 9 | TotalWorkingYears | Integer | [0, 40] | False |\n",
      "| 10 | TrainingTimesLastYear | Integer | [0, 6] | False |\n",
      "| 11 | WorkLifeBalance | Integer | [1, 4] | True |\n",
      "| 12 | YearsAtCompany | Integer | [0, 40] | False |\n",
      "| 13 | YearsInCurrentRole | Integer | [0, 18] | False |\n",
      "| 14 | YearsSinceLastPromotion | Integer | [0, 15] | False |\n",
      "| 15 | YearsWithCurrManager | Integer | [0, 17] | False |\n",
      "| 16 | Department | Category | HumanResources <br> ResearchAndDevelopment <br> Sales | True |\n",
      "| 17 | JobRole | Category | HealthcareRepresentative <br> HumanResources <br> LaboratoryTechnician <br> Manager <br> ManufacturingDirector <br> ResearchDirector <br> ResearchScientist <br> SalesExecutive <br> SalesRepresentative | True |\n",
      "\n"
     ]
    }
   ],
   "source": [
    "import numpy as np\n",
    "from acv_explainers import ACXplainer\n",
    "from acv_explainers.utils import *\n",
    "from sklearn.linear_model import LogisticRegression\n",
    "from lightgbm import LGBMClassifier\n",
    "from utils import MyTabNetClassifier\n",
    "from utils import DatasetHelper, DATASETS_NAME\n",
    "from sklearn.metrics import roc_auc_score, accuracy_score\n",
    "import warnings\n",
    "warnings.filterwarnings('ignore')\n",
    "\n",
    "GAMMA = 1.0\n",
    "dataset = 't'\n",
    "dataset_name = DATASETS_NAME[dataset]\n",
    "model= 'X'\n",
    "\n",
    "np.random.seed(0)\n",
    "LAMBDA = 0.01\n",
    "GAMMA = 1.0\n",
    "\n",
    "D = DatasetHelper(dataset=dataset, feature_prefix_index=False)\n",
    "\n",
    "for i in range(len(D.feature_names)):\n",
    "    D.feature_names[i] = D.feature_names[i].replace(\" \", \"\")\n",
    "    \n",
    "    \n",
    "print('# Demonstration:', D.dataset_fullname)\n",
    "print(D.to_markdown())"
   ]
  },
  {
   "cell_type": "code",
   "execution_count": null,
   "id": "c2c120cb",
   "metadata": {},
   "outputs": [],
   "source": [
    "## run the following line to run experiment and get results\n",
    "\n",
    "# X_tr, X_ts, y_tr, y_ts = D.train_test_split()\n",
    "\n",
    "# if(model=='L'):\n",
    "#     print('* Classifier: LogisticRegression')\n",
    "#     mdl = LogisticRegression(penalty='l2', C=1.0, solver='liblinear')\n",
    "#     print('\\t* C: {}'.format(mdl.C)); print('\\t* penalty: {}'.format(mdl.penalty));\n",
    "# elif(model=='X'):\n",
    "#     print('* Classifier: LightGBM')\n",
    "#     mdl = LGBMClassifier(n_estimators=50, num_leaves=8)\n",
    "#     print('\\t* n_estimators: {}'.format(mdl.n_estimators)); print('\\t* num_leaves: {}'.format(mdl.num_leaves));\n",
    "# elif(model=='T'):\n",
    "#     print('* Classifier: TabNet')\n",
    "#     mdl = MyTabNetClassifier(D.feature_types, verbose=0)\n",
    "    \n",
    "# mdl = mdl.fit(X_tr, y_tr, X_vl=X_ts, y_vl=y_ts) if model=='T' else mdl.fit(X_tr, y_tr)\n",
    "# X = X_tr[mdl.predict(X_tr)==1]; X_vl = X_ts[mdl.predict(X_ts)==1];\n",
    "# print('\\t* train score: ', mdl.score(X_tr, y_tr)); print('\\t* train denied: ', X.shape[0]);\n",
    "# print('\\t* test score: ', mdl.score(X_ts, y_ts)); print('\\t* test denied: ', X_vl.shape[0]); print();\n",
    "\n",
    "# x_train = X_tr.copy()\n",
    "# x_test = X_ts.copy()\n",
    "# y_train = mdl.predict(X_tr)\n",
    "# y_test = mdl.predict(X_ts)\n",
    "\n",
    "# ### Train Explainer (ACXplainer)\n",
    "# ac_explainer = ACXplainer(classifier=True, n_estimators=20, max_depth=12)\n",
    "# ac_explainer.fit(x_train, y_train)\n",
    "\n",
    "# print('# Trained ACXplainer -- score = {}'.format(accuracy_score(y_test, ac_explainer.predict(x_test))))\n",
    "\n",
    "# x, y = x_test[:500], y_test[:500]\n",
    "# x_rules, y_rules = x_train[:1000], y_train[:1000]\n",
    "\n",
    "# columns_name = D.feature_names\n",
    "\n",
    "# results = RunExperiments(ac_explainer, x_train, x_test, y_train, y_test, columns_name, model=mdl)\n",
    "\n",
    "# results.run_sufficient_rules(x_rules, y_rules, pi_level=0.9)"
   ]
  },
  {
   "cell_type": "code",
   "execution_count": 72,
   "id": "b167d346",
   "metadata": {},
   "outputs": [],
   "source": [
    "results = load_model('EmployeeAttritionCR_results'.format(dataset_name))"
   ]
  },
  {
   "cell_type": "code",
   "execution_count": 4,
   "id": "295cdc93",
   "metadata": {},
   "outputs": [],
   "source": [
    "def get_sr_results(x_test, rules, x_rules, y_rules, s_star, predict):\n",
    "    N = rules.shape[0]\n",
    "    d = rules.shape[1]\n",
    "    \n",
    "    coverages = []\n",
    "    accuracies = []\n",
    "    supports = []\n",
    "    for idx in tqdm(range(N)):\n",
    "        x_in = np.prod([(x_test[:, s] <= rules[idx, s, 1]) * (x_test[:, s] > rules[idx, s, 0])\n",
    "                        for s in range(d)], axis=0).astype(bool)\n",
    "        \n",
    "        if  np.sum(x_in) == 0:\n",
    "            continue\n",
    "            \n",
    "        coverage = np.mean(x_in)\n",
    "        accuracy = np.mean(predict(x_test[x_in]) == y_rules[idx].reshape(1, -1))\n",
    "        \n",
    "        coverages.append(coverage)\n",
    "        accuracies.append(accuracy)\n",
    "        supports.append(len(s_star[idx]))\n",
    "        \n",
    "    return coverages, accuracies, supports, rules"
   ]
  },
  {
   "cell_type": "code",
   "execution_count": 4,
   "id": "4216d568",
   "metadata": {},
   "outputs": [
    {
     "name": "stderr",
     "output_type": "stream",
     "text": [
      "100%|██████████████████████████████████████| 1000/1000 [00:01<00:00, 664.66it/s]\n"
     ]
    }
   ],
   "source": [
    "coverages_sr, accuracies_sr, supports_sr, rules_sr = get_sr_results(results.x_test, results.rules, results.x_rules, results.y_rules,\n",
    "                                                                        results.S_star_se, results.acv_explainer.predict)"
   ]
  },
  {
   "cell_type": "code",
   "execution_count": 5,
   "id": "1fc73090",
   "metadata": {},
   "outputs": [
    {
     "name": "stdout",
     "output_type": "stream",
     "text": [
      "SR: Coverage = 0.5728423913043478 - Accuracy = 0.9348926956869634 - Support = 0.984\n"
     ]
    }
   ],
   "source": [
    "# N = x_test.shape[0]\n",
    "N = results.rules.shape[0]\n",
    "print('SR: Coverage = {} - Accuracy = {} - Support = {}'.format(np.sum(coverages_sr)/N, np.sum(accuracies_sr)/N, \n",
    "                                                            np.sum(supports_sr)/N))\n"
   ]
  },
  {
   "cell_type": "code",
   "execution_count": 6,
   "id": "fd6e070c",
   "metadata": {},
   "outputs": [
    {
     "name": "stdout",
     "output_type": "stream",
     "text": [
      "SR STD: Coverage = 0.015858878706276634 - Accuracy = 0.002284977771868051 - Support = 0.17555213043581816\n"
     ]
    }
   ],
   "source": [
    "# N = x_test.shape[0]\n",
    "# N = results.rules.shape[0]\n",
    "print('SR STD: Coverage = {} - Accuracy = {} - Support = {}'.format(np.var(coverages_sr), np.var(accuracies_sr), \n",
    "                                                            np.var(supports_sr)))\n"
   ]
  },
  {
   "cell_type": "code",
   "execution_count": 5,
   "id": "54cfdd82",
   "metadata": {},
   "outputs": [],
   "source": [
    "from anchor import utils\n",
    "from anchor import anchor_tabular"
   ]
  },
  {
   "cell_type": "code",
   "execution_count": 7,
   "id": "01ebb97c",
   "metadata": {},
   "outputs": [
    {
     "data": {
      "text/plain": [
       "{'F0': 0,\n",
       " 'F1': 1,\n",
       " 'F2': 2,\n",
       " 'F3': 3,\n",
       " 'F4': 4,\n",
       " 'F5': 5,\n",
       " 'F6': 6,\n",
       " 'F7': 7,\n",
       " 'F8': 8,\n",
       " 'F9': 9,\n",
       " 'F10': 10,\n",
       " 'F11': 11,\n",
       " 'F12': 12,\n",
       " 'F13': 13,\n",
       " 'F14': 14,\n",
       " 'F15': 15,\n",
       " 'F16': 16,\n",
       " 'F17': 17,\n",
       " 'F18': 18,\n",
       " 'F19': 19,\n",
       " 'F20': 20,\n",
       " 'F21': 21,\n",
       " 'F22': 22,\n",
       " 'F23': 23,\n",
       " 'F24': 24,\n",
       " 'F25': 25,\n",
       " 'F26': 26}"
      ]
     },
     "execution_count": 7,
     "metadata": {},
     "output_type": "execute_result"
    }
   ],
   "source": [
    "columns_names = ['F{}'.format(i) for i in range(results.x_train.shape[1])]\n",
    "columns_id = {}\n",
    "for i, col in enumerate(columns_names):\n",
    "    columns_id[col] = i"
   ]
  },
  {
   "cell_type": "code",
   "execution_count": 8,
   "id": "997f24ba",
   "metadata": {},
   "outputs": [],
   "source": [
    "explainer = anchor_tabular.AnchorTabularExplainer(\n",
    "    D.target_labels,\n",
    "    columns_names,\n",
    "    results.x_train)"
   ]
  },
  {
   "cell_type": "code",
   "execution_count": 9,
   "id": "ab7173ed",
   "metadata": {},
   "outputs": [],
   "source": [
    "def get_anchor_results(explainer, x_test, x_train, predict, pi, columns_id):\n",
    "    N = x_train.shape[0]\n",
    "    d = x_train.shape[1]\n",
    "    rules = np.ones(shape=(N, d, 2))\n",
    "    rules[:, :, 0] = -1e+10\n",
    "    rules[:, :, 1] = 1e+10\n",
    "    \n",
    "    coverages = []\n",
    "    accuracies = []\n",
    "    supports = []\n",
    "    for idx in tqdm(range(N)):\n",
    "        exp = explainer.explain_instance(x_train[idx], predict, threshold=pi)\n",
    "        for r in exp.names():\n",
    "            r_split = r.split()\n",
    "            \n",
    "            if len(r_split) == 3:\n",
    "                col_id = columns_id[r_split[0]]\n",
    "                if r_split[1] == '<' or r_split[1] == '<=':\n",
    "                    rules[idx, col_id, 1] = r_split[2]\n",
    "                elif r_split[1] == '>' or r_split[1] == '>=':\n",
    "                    rules[idx, col_id, 0] = r_split[2]\n",
    "                else:\n",
    "                    raise ValueError\n",
    "            elif len(r_split) == 5:\n",
    "                col_id = columns_id[r_split[2]]\n",
    "                rules[idx, col_id, 0] = r_split[0]\n",
    "                rules[idx, col_id, 0] = r_split[-1]\n",
    "            else:\n",
    "                raise ValueError\n",
    "\n",
    "        x_train_in = np.prod([(x_train[:, s] <= rules[idx, s, 1]) * (x_train[:, s] > rules[idx, s, 0])\n",
    "                        for s in range(d)], axis=0).astype(bool)\n",
    "        x_in = np.prod([(x_test[:, s] <= rules[idx, s, 1]) * (x_test[:, s] > rules[idx, s, 0])\n",
    "                        for s in range(d)], axis=0).astype(bool)\n",
    "        \n",
    "        if np.sum(x_train_in) * np.sum(x_in) == 0:\n",
    "            continue\n",
    "            \n",
    "#         if np.abs(np.mean(x_train_in)-exp.coverage())>0.01:\n",
    "#             print(r)\n",
    "#             print(np.mean(x_train_in), exp.coverage())\n",
    "#             raise Warning('Inconsistency of the rules for this obs')\n",
    "            \n",
    "        \n",
    "        coverage = np.mean(x_in)\n",
    "        accuracy = np.mean(predict(x_test[x_in]) == predict(x_train[idx].reshape(1, -1)))\n",
    "        \n",
    "        coverages.append(coverage)\n",
    "        accuracies.append(accuracy)\n",
    "        supports.append(len(exp.names()))\n",
    "        \n",
    "    return coverages, accuracies, supports, rules\n",
    "\n",
    "        "
   ]
  },
  {
   "cell_type": "code",
   "execution_count": 48,
   "id": "cd869987",
   "metadata": {},
   "outputs": [],
   "source": [
    "def get_anchor_stab(explainer, x_test, predict, pi, columns_id):\n",
    "    N = x_test.shape[0]\n",
    "    d = x_test.shape[1]\n",
    "    \n",
    "#     coverages = []\n",
    "#     accuracies = []\n",
    "    supports = []\n",
    "    \n",
    "    for idx in tqdm(range(N)):\n",
    "        exp = explainer.explain_instance(x_train[idx], predict, threshold=pi)\n",
    "        supports.append(exp.names())\n",
    "        \n",
    "    return supports\n",
    "\n",
    "        "
   ]
  },
  {
   "cell_type": "code",
   "execution_count": null,
   "id": "b67aa1c8",
   "metadata": {},
   "outputs": [],
   "source": [
    "get_anchor_stab(explainer, results)"
   ]
  },
  {
   "cell_type": "code",
   "execution_count": 13,
   "id": "99b4120b",
   "metadata": {},
   "outputs": [
    {
     "name": "stderr",
     "output_type": "stream",
     "text": [
      "100%|███████████████████████████████████████| 1000/1000 [07:43<00:00,  2.16it/s]\n"
     ]
    }
   ],
   "source": [
    "coverages, accuracies, supports, rules = get_anchor_results(explainer, results.x_test, results.x_rules, \n",
    "                                                            results.acv_explainer.predict, pi=0.9, columns_id=columns_id)"
   ]
  },
  {
   "cell_type": "code",
   "execution_count": 14,
   "id": "4905e1a8",
   "metadata": {},
   "outputs": [
    {
     "name": "stdout",
     "output_type": "stream",
     "text": [
      "ANCHORS: Coverage = 0.6989157608695652 - Accuracy = 0.938789859789333 - Support = 0.83\n"
     ]
    }
   ],
   "source": [
    "# N = x_test.shape[0]\n",
    "# N = 500\n",
    "print('ANCHORS: Coverage = {} - Accuracy = {} - Support = {}'.format(np.sum(coverages)/N, np.sum(accuracies)/N, \n",
    "                                                            np.sum(supports)/N))\n"
   ]
  },
  {
   "cell_type": "code",
   "execution_count": 15,
   "id": "b13ed9c4",
   "metadata": {},
   "outputs": [
    {
     "name": "stdout",
     "output_type": "stream",
     "text": [
      "ANCHORS STD: Coverage = 0.06127852893031416 - Accuracy = 0.0038236599380743032 - Support = 3.374632258401943\n"
     ]
    }
   ],
   "source": [
    "# N = x_test.shape[0]\n",
    "# N = 500\n",
    "print('ANCHORS STD: Coverage = {} - Accuracy = {} - Support = {}'.format(np.var(coverages), np.var(accuracies), \n",
    "                                                            np.var(supports)))\n"
   ]
  },
  {
   "cell_type": "code",
   "execution_count": 21,
   "id": "38b1813f",
   "metadata": {},
   "outputs": [
    {
     "data": {
      "text/plain": [
       "<AxesSubplot:ylabel='count'>"
      ]
     },
     "execution_count": 21,
     "metadata": {},
     "output_type": "execute_result"
    },
    {
     "data": {
      "image/png": "[encoded data removed]",
      "text/plain": [
       "<Figure size 1440x720 with 2 Axes>"
      ]
     },
     "metadata": {
      "needs_background": "light"
     },
     "output_type": "display_data"
    }
   ],
   "source": [
    "fig, ax = plt.subplots(1, 2, figsize=(20, 10))\n",
    "sns.countplot(ax = ax[0], x=supports)\n",
    "sns.countplot(ax = ax[1], x=supports_sr)"
   ]
  },
  {
   "cell_type": "code",
   "execution_count": 22,
   "id": "82271895",
   "metadata": {},
   "outputs": [],
   "source": [
    "unique, count = np.unique(supports, return_counts=True)\n",
    "unique_sr, count_sr = np.unique(supports_sr, return_counts=True)"
   ]
  },
  {
   "cell_type": "code",
   "execution_count": 23,
   "id": "22fcefe8",
   "metadata": {},
   "outputs": [],
   "source": [
    "count_support = dict(zip(unique, count))\n",
    "count_support_sr = dict(zip(unique_sr, count_sr))"
   ]
  },
  {
   "cell_type": "code",
   "execution_count": 24,
   "id": "99ce8a27",
   "metadata": {},
   "outputs": [
    {
     "data": {
      "text/plain": [
       "{0: 326,\n",
       " 1: 616,\n",
       " 5: 1,\n",
       " 6: 1,\n",
       " 7: 2,\n",
       " 11: 2,\n",
       " 12: 2,\n",
       " 13: 2,\n",
       " 16: 1,\n",
       " 18: 1,\n",
       " 20: 3,\n",
       " 23: 1}"
      ]
     },
     "execution_count": 24,
     "metadata": {},
     "output_type": "execute_result"
    }
   ],
   "source": [
    "count_support"
   ]
  },
  {
   "cell_type": "code",
   "execution_count": 25,
   "id": "d631eef5",
   "metadata": {},
   "outputs": [
    {
     "data": {
      "text/plain": [
       "{1: 926, 3: 2, 4: 5, 5: 4, 6: 2}"
      ]
     },
     "execution_count": 25,
     "metadata": {},
     "output_type": "execute_result"
    }
   ],
   "source": [
    "count_support_sr"
   ]
  },
  {
   "cell_type": "markdown",
   "id": "1648ed83",
   "metadata": {},
   "source": [
    "# Stability"
   ]
  },
  {
   "cell_type": "code",
   "execution_count": 77,
   "id": "b25a5468",
   "metadata": {},
   "outputs": [],
   "source": [
    "def get_anchor_stab(explainer, x_test, predict, pi):\n",
    "    N = x_test.shape[0]\n",
    "    d = x_test.shape[1]\n",
    "    \n",
    "#     coverages = []\n",
    "#     accuracies = []\n",
    "    supports = []\n",
    "    \n",
    "    for idx in tqdm(range(N)):\n",
    "        exp = explainer.explain_instance(x_test[idx], predict, threshold=pi)\n",
    "        supports.append(exp.names())\n",
    "        \n",
    "    return supports\n",
    "\n",
    "def compute_stability(results, explainer, size, nb_perturb, eps):\n",
    "    stabs = []\n",
    "    stabs_sr = []\n",
    "    for idx in range(size):\n",
    "        x = results.x_test[idx]\n",
    "        y = results.y_test[idx]\n",
    "\n",
    "        d = results.x_test.shape[1]\n",
    "        rdm = eps*np.random.randn(nb_perturb * d).reshape(nb_perturb, d) \n",
    "        x_rdm = rdm + x\n",
    "        y_rdm = np.array(nb_perturb*[y])\n",
    "\n",
    "#         coverages, accuracies, supports, rules = get_anchor_results(explainer, results.x_test[:1], x_rdm, \n",
    "#                                                                     results.acv_explainer.predict, pi=0.9, \n",
    "#                                                                     columns_id=columns_id)\n",
    "#         stab = np.unique(rules, axis=0).shape[0]\n",
    "       \n",
    "        rules = get_anchor_stab(explainer, x_rdm, results.acv_explainer.predict, pi=0.9)\n",
    "        stab = np.unique(rules).shape[0]\n",
    "       \n",
    "        pi_level = 0.9\n",
    "\n",
    "        sdp_importance_se, sdp_index_se, size_se, sdp_se = \\\n",
    "                    results.acv_explainer.importance_sdp_rf(x_rdm, y_rdm,\n",
    "                                                         results.x_train, results.y_train,\n",
    "                                                         stop=False,\n",
    "                                                         pi_level=pi_level)\n",
    "\n",
    "        sdp_se\n",
    "\n",
    "        S_star_se, N_star_se = get_active_null_coalition_list(sdp_index_se, size_se)\n",
    "\n",
    "        # sdp_rules, rules_sr, sdp_all, rules_data, w_rules = results.acv_explainer.compute_sdp_maxrules(\n",
    "        #     x_rdm, y_rdm, results.x_train, results.y_train, S_star_se, verbose=True)\n",
    "\n",
    "        sdp_rules, rules_sr = results.acv_explainer.compute_sdp_rule(\n",
    "            x_rdm, y_rdm, results.x_train, results.y_train, S_star_se)\n",
    "\n",
    "        stab_sr = np.unique(rules_sr, axis=0).shape[0]\n",
    "        \n",
    "        stabs.append(stab)\n",
    "        stabs_sr.append(stab_sr)\n",
    "        print(np.mean(stabs_sr), np.mean(stabs))\n",
    "        print(np.var(stabs_sr), np.var(stabs))\n",
    "    return stabs, stabs_sr"
   ]
  },
  {
   "cell_type": "code",
   "execution_count": 78,
   "id": "ceca32d2",
   "metadata": {},
   "outputs": [
    {
     "name": "stderr",
     "output_type": "stream",
     "text": [
      "100%|███████████████████████████████████████████| 50/50 [00:09<00:00,  5.44it/s]\n",
      "100%|███████████████████████████████████████████| 10/10 [00:00<00:00, 20.00it/s]\n"
     ]
    },
    {
     "name": "stdout",
     "output_type": "stream",
     "text": [
      "1.0 10.0\n",
      "0.0 0.0\n"
     ]
    },
    {
     "name": "stderr",
     "output_type": "stream",
     "text": [
      "100%|███████████████████████████████████████████| 50/50 [00:09<00:00,  5.19it/s]\n",
      "100%|███████████████████████████████████████████| 10/10 [00:00<00:00, 19.46it/s]\n"
     ]
    },
    {
     "name": "stdout",
     "output_type": "stream",
     "text": [
      "1.0 11.5\n",
      "0.0 2.25\n"
     ]
    },
    {
     "name": "stderr",
     "output_type": "stream",
     "text": [
      "100%|███████████████████████████████████████████| 50/50 [00:09<00:00,  5.05it/s]\n",
      "100%|███████████████████████████████████████████| 10/10 [00:00<00:00, 20.58it/s]\n"
     ]
    },
    {
     "name": "stdout",
     "output_type": "stream",
     "text": [
      "1.3333333333333333 11.333333333333334\n",
      "0.2222222222222222 1.5555555555555556\n"
     ]
    },
    {
     "name": "stderr",
     "output_type": "stream",
     "text": [
      "100%|███████████████████████████████████████████| 50/50 [00:09<00:00,  5.53it/s]\n",
      "100%|███████████████████████████████████████████| 10/10 [00:00<00:00, 15.97it/s]\n"
     ]
    },
    {
     "name": "stdout",
     "output_type": "stream",
     "text": [
      "1.25 11.0\n",
      "0.1875 1.5\n"
     ]
    },
    {
     "name": "stderr",
     "output_type": "stream",
     "text": [
      "100%|███████████████████████████████████████████| 50/50 [03:34<00:00,  4.29s/it]\n",
      "100%|███████████████████████████████████████████| 10/10 [00:37<00:00,  3.79s/it]\n"
     ]
    },
    {
     "name": "stdout",
     "output_type": "stream",
     "text": [
      "1.2 18.8\n",
      "0.16 244.56\n"
     ]
    },
    {
     "name": "stderr",
     "output_type": "stream",
     "text": [
      "100%|███████████████████████████████████████████| 50/50 [00:09<00:00,  5.39it/s]\n",
      "100%|███████████████████████████████████████████| 10/10 [00:41<00:00,  4.17s/it]\n"
     ]
    },
    {
     "name": "stdout",
     "output_type": "stream",
     "text": [
      "1.1666666666666667 18.0\n",
      "0.13888888888888887 207.0\n"
     ]
    },
    {
     "name": "stderr",
     "output_type": "stream",
     "text": [
      "100%|███████████████████████████████████████████| 50/50 [00:10<00:00,  4.80it/s]\n",
      "100%|███████████████████████████████████████████| 10/10 [00:00<00:00, 19.10it/s]\n"
     ]
    },
    {
     "name": "stdout",
     "output_type": "stream",
     "text": [
      "1.1428571428571428 17.428571428571427\n",
      "0.12244897959183676 179.38775510204079\n"
     ]
    },
    {
     "name": "stderr",
     "output_type": "stream",
     "text": [
      "100%|███████████████████████████████████████████| 50/50 [00:09<00:00,  5.52it/s]\n",
      "100%|███████████████████████████████████████████| 10/10 [00:00<00:00, 18.52it/s]\n"
     ]
    },
    {
     "name": "stdout",
     "output_type": "stream",
     "text": [
      "1.125 16.75\n",
      "0.109375 160.1875\n"
     ]
    },
    {
     "name": "stderr",
     "output_type": "stream",
     "text": [
      "100%|███████████████████████████████████████████| 50/50 [00:09<00:00,  5.55it/s]\n",
      "100%|███████████████████████████████████████████| 10/10 [00:00<00:00, 19.44it/s]\n"
     ]
    },
    {
     "name": "stdout",
     "output_type": "stream",
     "text": [
      "1.1111111111111112 16.77777777777778\n",
      "0.09876543209876544 142.39506172839506\n"
     ]
    },
    {
     "name": "stderr",
     "output_type": "stream",
     "text": [
      "100%|███████████████████████████████████████████| 50/50 [00:09<00:00,  5.07it/s]\n",
      "100%|███████████████████████████████████████████| 10/10 [00:00<00:00, 19.79it/s]\n"
     ]
    },
    {
     "name": "stdout",
     "output_type": "stream",
     "text": [
      "1.1 16.5\n",
      "0.09 128.85\n"
     ]
    },
    {
     "name": "stderr",
     "output_type": "stream",
     "text": [
      "100%|███████████████████████████████████████████| 50/50 [00:09<00:00,  5.27it/s]\n",
      "100%|███████████████████████████████████████████| 10/10 [00:00<00:00, 19.84it/s]\n"
     ]
    },
    {
     "name": "stdout",
     "output_type": "stream",
     "text": [
      "1.0909090909090908 16.272727272727273\n",
      "0.08264462809917354 117.65289256198348\n"
     ]
    },
    {
     "name": "stderr",
     "output_type": "stream",
     "text": [
      "100%|███████████████████████████████████████████| 50/50 [00:09<00:00,  5.36it/s]\n",
      "100%|███████████████████████████████████████████| 10/10 [00:00<00:00, 18.22it/s]\n"
     ]
    },
    {
     "name": "stdout",
     "output_type": "stream",
     "text": [
      "1.0833333333333333 16.0\n",
      "0.07638888888888888 108.66666666666667\n"
     ]
    },
    {
     "name": "stderr",
     "output_type": "stream",
     "text": [
      "100%|███████████████████████████████████████████| 50/50 [00:08<00:00,  5.69it/s]\n",
      "100%|███████████████████████████████████████████| 10/10 [00:00<00:00, 19.95it/s]\n"
     ]
    },
    {
     "name": "stdout",
     "output_type": "stream",
     "text": [
      "1.0769230769230769 15.538461538461538\n",
      "0.07100591715976333 102.8639053254438\n"
     ]
    },
    {
     "name": "stderr",
     "output_type": "stream",
     "text": [
      "100%|███████████████████████████████████████████| 50/50 [00:09<00:00,  5.34it/s]\n",
      "100%|███████████████████████████████████████████| 10/10 [00:00<00:00, 22.02it/s]\n"
     ]
    },
    {
     "name": "stdout",
     "output_type": "stream",
     "text": [
      "1.0714285714285714 15.5\n",
      "0.06632653061224487 95.53571428571429\n"
     ]
    },
    {
     "name": "stderr",
     "output_type": "stream",
     "text": [
      "100%|███████████████████████████████████████████| 50/50 [00:09<00:00,  5.37it/s]\n",
      "100%|███████████████████████████████████████████| 10/10 [00:00<00:00, 19.22it/s]\n"
     ]
    },
    {
     "name": "stdout",
     "output_type": "stream",
     "text": [
      "1.0666666666666667 15.4\n",
      "0.06222222222222224 89.30666666666669\n"
     ]
    },
    {
     "name": "stderr",
     "output_type": "stream",
     "text": [
      "100%|███████████████████████████████████████████| 50/50 [00:07<00:00,  6.44it/s]\n",
      "100%|███████████████████████████████████████████| 10/10 [00:00<00:00, 18.72it/s]\n"
     ]
    },
    {
     "name": "stdout",
     "output_type": "stream",
     "text": [
      "1.0625 15.1875\n",
      "0.05859375 84.40234375\n"
     ]
    },
    {
     "name": "stderr",
     "output_type": "stream",
     "text": [
      "100%|███████████████████████████████████████████| 50/50 [00:07<00:00,  6.43it/s]\n",
      "100%|███████████████████████████████████████████| 10/10 [00:00<00:00, 20.43it/s]\n"
     ]
    },
    {
     "name": "stdout",
     "output_type": "stream",
     "text": [
      "1.0588235294117647 14.941176470588236\n",
      "0.05536332179930797 80.40830449826991\n"
     ]
    },
    {
     "name": "stderr",
     "output_type": "stream",
     "text": [
      "100%|███████████████████████████████████████████| 50/50 [00:08<00:00,  6.08it/s]\n",
      "100%|███████████████████████████████████████████| 10/10 [00:00<00:00, 20.44it/s]\n"
     ]
    },
    {
     "name": "stdout",
     "output_type": "stream",
     "text": [
      "1.0555555555555556 14.777777777777779\n",
      "0.05246913580246914 76.39506172839508\n"
     ]
    },
    {
     "name": "stderr",
     "output_type": "stream",
     "text": [
      "100%|███████████████████████████████████████████| 50/50 [00:09<00:00,  5.00it/s]\n",
      "100%|███████████████████████████████████████████| 10/10 [00:00<00:00, 19.00it/s]\n"
     ]
    },
    {
     "name": "stdout",
     "output_type": "stream",
     "text": [
      "1.0526315789473684 14.68421052631579\n",
      "0.049861495844875335 72.53185595567868\n"
     ]
    },
    {
     "name": "stderr",
     "output_type": "stream",
     "text": [
      "100%|███████████████████████████████████████████| 50/50 [00:07<00:00,  6.45it/s]\n",
      "100%|███████████████████████████████████████████| 10/10 [00:00<00:00, 17.78it/s]\n"
     ]
    },
    {
     "name": "stdout",
     "output_type": "stream",
     "text": [
      "1.05 14.6\n",
      "0.047500000000000014 69.03999999999999\n"
     ]
    },
    {
     "name": "stderr",
     "output_type": "stream",
     "text": [
      "100%|███████████████████████████████████████████| 50/50 [00:10<00:00,  4.93it/s]\n",
      "100%|███████████████████████████████████████████| 10/10 [00:00<00:00, 23.91it/s]\n"
     ]
    },
    {
     "name": "stdout",
     "output_type": "stream",
     "text": [
      "1.0476190476190477 14.523809523809524\n",
      "0.04535147392290251 65.86848072562356\n"
     ]
    },
    {
     "name": "stderr",
     "output_type": "stream",
     "text": [
      "100%|███████████████████████████████████████████| 50/50 [00:10<00:00,  4.97it/s]\n",
      "100%|███████████████████████████████████████████| 10/10 [00:00<00:00, 19.95it/s]\n"
     ]
    },
    {
     "name": "stdout",
     "output_type": "stream",
     "text": [
      "1.0454545454545454 14.590909090909092\n",
      "0.04338842975206613 62.96900826446281\n"
     ]
    },
    {
     "name": "stderr",
     "output_type": "stream",
     "text": [
      "100%|███████████████████████████████████████████| 50/50 [00:08<00:00,  5.83it/s]\n",
      "100%|███████████████████████████████████████████| 10/10 [00:00<00:00, 20.14it/s]\n"
     ]
    },
    {
     "name": "stdout",
     "output_type": "stream",
     "text": [
      "1.0434782608695652 14.478260869565217\n",
      "0.04158790170132326 60.510396975425316\n"
     ]
    },
    {
     "name": "stderr",
     "output_type": "stream",
     "text": [
      "100%|███████████████████████████████████████████| 50/50 [00:09<00:00,  5.22it/s]\n",
      "100%|███████████████████████████████████████████| 10/10 [00:00<00:00, 14.68it/s]\n"
     ]
    },
    {
     "name": "stdout",
     "output_type": "stream",
     "text": [
      "1.0416666666666667 14.333333333333334\n",
      "0.03993055555555556 58.47222222222222\n"
     ]
    },
    {
     "name": "stderr",
     "output_type": "stream",
     "text": [
      "100%|███████████████████████████████████████████| 50/50 [00:09<00:00,  5.49it/s]\n",
      "100%|███████████████████████████████████████████| 10/10 [00:48<00:00,  4.89s/it]\n"
     ]
    },
    {
     "name": "stdout",
     "output_type": "stream",
     "text": [
      "1.04 14.12\n",
      "0.03840000000000001 57.225600000000014\n"
     ]
    },
    {
     "name": "stderr",
     "output_type": "stream",
     "text": [
      "100%|███████████████████████████████████████████| 50/50 [00:08<00:00,  5.78it/s]\n",
      "100%|███████████████████████████████████████████| 10/10 [00:00<00:00, 18.71it/s]\n"
     ]
    },
    {
     "name": "stdout",
     "output_type": "stream",
     "text": [
      "1.0384615384615385 14.115384615384615\n",
      "0.03698224852071005 55.025147928994095\n"
     ]
    },
    {
     "name": "stderr",
     "output_type": "stream",
     "text": [
      "100%|███████████████████████████████████████████| 50/50 [00:10<00:00,  4.67it/s]\n",
      "100%|███████████████████████████████████████████| 10/10 [00:00<00:00, 19.94it/s]\n"
     ]
    },
    {
     "name": "stdout",
     "output_type": "stream",
     "text": [
      "1.037037037037037 14.148148148148149\n",
      "0.035665294924554176 53.0150891632373\n"
     ]
    },
    {
     "name": "stderr",
     "output_type": "stream",
     "text": [
      "100%|███████████████████████████████████████████| 50/50 [00:10<00:00,  4.77it/s]\n",
      "100%|███████████████████████████████████████████| 10/10 [00:00<00:00, 18.92it/s]\n"
     ]
    },
    {
     "name": "stdout",
     "output_type": "stream",
     "text": [
      "1.0357142857142858 14.107142857142858\n",
      "0.03443877551020409 51.16709183673468\n"
     ]
    },
    {
     "name": "stderr",
     "output_type": "stream",
     "text": [
      "100%|███████████████████████████████████████████| 50/50 [04:24<00:00,  5.28s/it]\n",
      "100%|███████████████████████████████████████████| 10/10 [00:41<00:00,  4.18s/it]\n"
     ]
    },
    {
     "name": "stdout",
     "output_type": "stream",
     "text": [
      "1.0344827586206897 15.344827586206897\n",
      "0.033293697978596916 92.294887039239\n"
     ]
    },
    {
     "name": "stderr",
     "output_type": "stream",
     "text": [
      "100%|███████████████████████████████████████████| 50/50 [00:09<00:00,  5.14it/s]\n",
      "100%|███████████████████████████████████████████| 10/10 [00:00<00:00, 20.42it/s]\n"
     ]
    },
    {
     "name": "stdout",
     "output_type": "stream",
     "text": [
      "1.0333333333333334 15.233333333333333\n",
      "0.0322222222222222 89.5788888888889\n"
     ]
    },
    {
     "name": "stderr",
     "output_type": "stream",
     "text": [
      "100%|███████████████████████████████████████████| 50/50 [00:11<00:00,  4.39it/s]\n",
      "100%|███████████████████████████████████████████| 10/10 [00:00<00:00, 19.92it/s]\n"
     ]
    },
    {
     "name": "stdout",
     "output_type": "stream",
     "text": [
      "1.032258064516129 15.161290322580646\n",
      "0.031217481789802305 86.84495317377731\n"
     ]
    },
    {
     "name": "stderr",
     "output_type": "stream",
     "text": [
      "100%|███████████████████████████████████████████| 50/50 [00:10<00:00,  4.92it/s]\n",
      "100%|███████████████████████████████████████████| 10/10 [00:00<00:00, 20.54it/s]\n"
     ]
    },
    {
     "name": "stdout",
     "output_type": "stream",
     "text": [
      "1.0625 15.15625\n",
      "0.05859375 84.1318359375\n"
     ]
    },
    {
     "name": "stderr",
     "output_type": "stream",
     "text": [
      "100%|███████████████████████████████████████████| 50/50 [00:09<00:00,  5.14it/s]\n",
      "100%|███████████████████████████████████████████| 10/10 [00:00<00:00, 21.97it/s]\n"
     ]
    },
    {
     "name": "stdout",
     "output_type": "stream",
     "text": [
      "1.0606060606060606 15.121212121212121\n",
      "0.05693296602387511 81.6216712580349\n"
     ]
    },
    {
     "name": "stderr",
     "output_type": "stream",
     "text": [
      "100%|███████████████████████████████████████████| 50/50 [00:10<00:00,  4.96it/s]\n",
      "100%|███████████████████████████████████████████| 10/10 [00:00<00:00, 14.74it/s]\n"
     ]
    },
    {
     "name": "stdout",
     "output_type": "stream",
     "text": [
      "1.0588235294117647 15.176470588235293\n",
      "0.055363321799307974 79.32179930795849\n"
     ]
    },
    {
     "name": "stderr",
     "output_type": "stream",
     "text": [
      "100%|███████████████████████████████████████████| 50/50 [00:09<00:00,  5.15it/s]\n",
      "100%|███████████████████████████████████████████| 10/10 [00:00<00:00, 16.77it/s]\n"
     ]
    },
    {
     "name": "stdout",
     "output_type": "stream",
     "text": [
      "1.0571428571428572 15.057142857142857\n",
      "0.05387755102040818 77.53959183673467\n"
     ]
    },
    {
     "name": "stderr",
     "output_type": "stream",
     "text": [
      "100%|███████████████████████████████████████████| 50/50 [00:09<00:00,  5.30it/s]\n",
      "100%|███████████████████████████████████████████| 10/10 [00:00<00:00, 19.62it/s]\n"
     ]
    },
    {
     "name": "stdout",
     "output_type": "stream",
     "text": [
      "1.0555555555555556 15.0\n",
      "0.05246913580246914 75.5\n"
     ]
    },
    {
     "name": "stderr",
     "output_type": "stream",
     "text": [
      "100%|███████████████████████████████████████████| 50/50 [00:08<00:00,  5.85it/s]\n",
      "100%|███████████████████████████████████████████| 10/10 [00:00<00:00, 20.25it/s]\n"
     ]
    },
    {
     "name": "stdout",
     "output_type": "stream",
     "text": [
      "1.054054054054054 15.0\n",
      "0.05113221329437544 73.45945945945945\n"
     ]
    },
    {
     "name": "stderr",
     "output_type": "stream",
     "text": [
      "100%|███████████████████████████████████████████| 50/50 [00:08<00:00,  5.65it/s]\n",
      "100%|███████████████████████████████████████████| 10/10 [00:00<00:00, 20.71it/s]\n"
     ]
    },
    {
     "name": "stdout",
     "output_type": "stream",
     "text": [
      "1.0526315789473684 14.894736842105264\n",
      "0.049861495844875335 71.93628808864268\n"
     ]
    },
    {
     "name": "stderr",
     "output_type": "stream",
     "text": [
      "100%|███████████████████████████████████████████| 50/50 [00:09<00:00,  5.08it/s]\n",
      "100%|███████████████████████████████████████████| 10/10 [00:00<00:00, 19.78it/s]\n"
     ]
    },
    {
     "name": "stdout",
     "output_type": "stream",
     "text": [
      "1.0512820512820513 14.897435897435898\n",
      "0.048652202498356334 70.09204470742931\n"
     ]
    },
    {
     "name": "stderr",
     "output_type": "stream",
     "text": [
      "100%|███████████████████████████████████████████| 50/50 [00:08<00:00,  6.24it/s]\n",
      "100%|███████████████████████████████████████████| 10/10 [00:00<00:00, 21.56it/s]\n"
     ]
    },
    {
     "name": "stdout",
     "output_type": "stream",
     "text": [
      "1.075 14.8\n",
      "0.06937499999999999 68.71000000000001\n"
     ]
    },
    {
     "name": "stderr",
     "output_type": "stream",
     "text": [
      "100%|███████████████████████████████████████████| 50/50 [00:10<00:00,  4.57it/s]\n",
      "100%|███████████████████████████████████████████| 10/10 [00:00<00:00, 17.97it/s]\n"
     ]
    },
    {
     "name": "stdout",
     "output_type": "stream",
     "text": [
      "1.0731707317073171 14.853658536585366\n",
      "0.06781677572873292 67.14931588340274\n"
     ]
    },
    {
     "name": "stderr",
     "output_type": "stream",
     "text": [
      "100%|███████████████████████████████████████████| 50/50 [00:09<00:00,  5.21it/s]\n",
      "100%|███████████████████████████████████████████| 10/10 [00:00<00:00, 16.27it/s]\n"
     ]
    },
    {
     "name": "stdout",
     "output_type": "stream",
     "text": [
      "1.0714285714285714 14.738095238095237\n",
      "0.06632653061224489 66.09807256235824\n"
     ]
    },
    {
     "name": "stderr",
     "output_type": "stream",
     "text": [
      "100%|███████████████████████████████████████████| 50/50 [00:10<00:00,  4.69it/s]\n",
      "100%|███████████████████████████████████████████| 10/10 [00:00<00:00, 20.72it/s]\n"
     ]
    },
    {
     "name": "stdout",
     "output_type": "stream",
     "text": [
      "1.069767441860465 14.744186046511627\n",
      "0.06489994591671175 64.56246619794483\n"
     ]
    },
    {
     "name": "stderr",
     "output_type": "stream",
     "text": [
      "100%|███████████████████████████████████████████| 50/50 [00:09<00:00,  5.18it/s]\n",
      "100%|███████████████████████████████████████████| 10/10 [00:00<00:00, 21.03it/s]\n"
     ]
    },
    {
     "name": "stdout",
     "output_type": "stream",
     "text": [
      "1.0681818181818181 14.840909090909092\n",
      "0.06353305785123965 63.4974173553719\n"
     ]
    },
    {
     "name": "stderr",
     "output_type": "stream",
     "text": [
      "100%|███████████████████████████████████████████| 50/50 [00:09<00:00,  5.50it/s]\n",
      "100%|███████████████████████████████████████████| 10/10 [00:00<00:00, 21.09it/s]\n"
     ]
    },
    {
     "name": "stdout",
     "output_type": "stream",
     "text": [
      "1.0666666666666667 14.844444444444445\n",
      "0.0622222222222222 62.08691358024689\n"
     ]
    },
    {
     "name": "stderr",
     "output_type": "stream",
     "text": [
      "100%|███████████████████████████████████████████| 50/50 [00:10<00:00,  4.97it/s]\n",
      "100%|███████████████████████████████████████████| 10/10 [00:00<00:00, 21.81it/s]\n"
     ]
    },
    {
     "name": "stdout",
     "output_type": "stream",
     "text": [
      "1.108695652173913 14.73913043478261\n",
      "0.14035916824196598 61.23629489603024\n"
     ]
    },
    {
     "name": "stderr",
     "output_type": "stream",
     "text": [
      "100%|███████████████████████████████████████████| 50/50 [00:08<00:00,  5.71it/s]\n",
      "100%|███████████████████████████████████████████| 10/10 [00:00<00:00, 14.97it/s]\n"
     ]
    },
    {
     "name": "stdout",
     "output_type": "stream",
     "text": [
      "1.1063829787234043 14.702127659574469\n",
      "0.13761883205070166 59.996378451788125\n"
     ]
    },
    {
     "name": "stderr",
     "output_type": "stream",
     "text": [
      "100%|███████████████████████████████████████████| 50/50 [00:08<00:00,  5.94it/s]\n",
      "100%|███████████████████████████████████████████| 10/10 [00:00<00:00, 22.58it/s]\n"
     ]
    },
    {
     "name": "stdout",
     "output_type": "stream",
     "text": [
      "1.1041666666666667 14.645833333333334\n",
      "0.1349826388888889 58.89539930555554\n"
     ]
    },
    {
     "name": "stderr",
     "output_type": "stream",
     "text": [
      "100%|███████████████████████████████████████████| 50/50 [05:51<00:00,  7.03s/it]\n",
      "100%|███████████████████████████████████████████| 10/10 [00:37<00:00,  3.70s/it]\n"
     ]
    },
    {
     "name": "stdout",
     "output_type": "stream",
     "text": [
      "1.1020408163265305 15.36734693877551\n",
      "0.1324448146605581 82.68138275718452\n"
     ]
    },
    {
     "name": "stderr",
     "output_type": "stream",
     "text": [
      "100%|███████████████████████████████████████████| 50/50 [04:41<00:00,  5.62s/it]\n",
      "100%|███████████████████████████████████████████| 10/10 [00:44<00:00,  4.48s/it]\n"
     ]
    },
    {
     "name": "stdout",
     "output_type": "stream",
     "text": [
      "1.1 16.06\n",
      "0.12999999999999998 104.53639999999997\n"
     ]
    },
    {
     "name": "stderr",
     "output_type": "stream",
     "text": [
      "100%|███████████████████████████████████████████| 50/50 [00:08<00:00,  5.72it/s]\n",
      "100%|███████████████████████████████████████████| 10/10 [00:00<00:00, 21.71it/s]\n"
     ]
    },
    {
     "name": "stdout",
     "output_type": "stream",
     "text": [
      "1.0980392156862746 15.941176470588236\n",
      "0.1276432141484045 103.19261822376014\n"
     ]
    },
    {
     "name": "stderr",
     "output_type": "stream",
     "text": [
      "100%|███████████████████████████████████████████| 50/50 [00:09<00:00,  5.48it/s]\n",
      "100%|███████████████████████████████████████████| 10/10 [00:00<00:00, 21.45it/s]\n"
     ]
    },
    {
     "name": "stdout",
     "output_type": "stream",
     "text": [
      "1.0961538461538463 15.826923076923077\n",
      "0.12536982248520714 101.87389053254432\n"
     ]
    },
    {
     "name": "stderr",
     "output_type": "stream",
     "text": [
      "100%|███████████████████████████████████████████| 50/50 [00:09<00:00,  5.48it/s]\n",
      "100%|███████████████████████████████████████████| 10/10 [00:00<00:00, 19.89it/s]\n"
     ]
    },
    {
     "name": "stdout",
     "output_type": "stream",
     "text": [
      "1.0943396226415094 15.79245283018868\n",
      "0.1231755072979708 100.01352794588821\n"
     ]
    },
    {
     "name": "stderr",
     "output_type": "stream",
     "text": [
      "100%|███████████████████████████████████████████| 50/50 [00:09<00:00,  5.24it/s]\n",
      "100%|███████████████████████████████████████████| 10/10 [00:00<00:00, 20.12it/s]\n"
     ]
    },
    {
     "name": "stdout",
     "output_type": "stream",
     "text": [
      "1.0925925925925926 15.703703703703704\n",
      "0.12105624142661175 98.57887517146776\n"
     ]
    },
    {
     "name": "stderr",
     "output_type": "stream",
     "text": [
      "100%|███████████████████████████████████████████| 50/50 [00:07<00:00,  6.51it/s]\n",
      "100%|███████████████████████████████████████████| 10/10 [00:00<00:00, 21.61it/s]\n"
     ]
    },
    {
     "name": "stdout",
     "output_type": "stream",
     "text": [
      "1.0909090909090908 15.581818181818182\n",
      "0.11900826446280988 97.58876033057852\n"
     ]
    },
    {
     "name": "stderr",
     "output_type": "stream",
     "text": [
      "100%|███████████████████████████████████████████| 50/50 [00:10<00:00,  4.98it/s]\n",
      "100%|███████████████████████████████████████████| 10/10 [00:00<00:00, 20.93it/s]\n"
     ]
    },
    {
     "name": "stdout",
     "output_type": "stream",
     "text": [
      "1.0892857142857142 15.535714285714286\n",
      "0.11702806122448979 95.96301020408166\n"
     ]
    },
    {
     "name": "stderr",
     "output_type": "stream",
     "text": [
      "100%|███████████████████████████████████████████| 50/50 [00:07<00:00,  6.87it/s]\n",
      "100%|███████████████████████████████████████████| 10/10 [00:00<00:00, 21.08it/s]\n"
     ]
    },
    {
     "name": "stdout",
     "output_type": "stream",
     "text": [
      "1.105263157894737 15.456140350877194\n",
      "0.12927054478301014 94.63404124345954\n"
     ]
    },
    {
     "name": "stderr",
     "output_type": "stream",
     "text": [
      "100%|███████████████████████████████████████████| 50/50 [00:09<00:00,  5.27it/s]\n",
      "100%|███████████████████████████████████████████| 10/10 [00:00<00:00, 21.20it/s]\n"
     ]
    },
    {
     "name": "stdout",
     "output_type": "stream",
     "text": [
      "1.103448275862069 15.448275862068966\n",
      "0.1272294887039239 93.00594530321047\n"
     ]
    },
    {
     "name": "stderr",
     "output_type": "stream",
     "text": [
      "100%|███████████████████████████████████████████| 50/50 [00:09<00:00,  5.50it/s]\n",
      "100%|███████████████████████████████████████████| 10/10 [00:00<00:00, 20.40it/s]\n"
     ]
    },
    {
     "name": "stdout",
     "output_type": "stream",
     "text": [
      "1.1016949152542372 15.35593220338983\n",
      "0.12525136455041655 91.92415972421719\n"
     ]
    },
    {
     "name": "stderr",
     "output_type": "stream",
     "text": [
      "100%|███████████████████████████████████████████| 50/50 [00:10<00:00,  4.74it/s]\n",
      "100%|███████████████████████████████████████████| 10/10 [00:00<00:00, 22.24it/s]\n"
     ]
    },
    {
     "name": "stdout",
     "output_type": "stream",
     "text": [
      "1.1 15.283333333333333\n",
      "0.12333333333333332 90.7030555555556\n"
     ]
    },
    {
     "name": "stderr",
     "output_type": "stream",
     "text": [
      "100%|███████████████████████████████████████████| 50/50 [00:09<00:00,  5.07it/s]\n",
      "100%|███████████████████████████████████████████| 10/10 [00:00<00:00, 20.10it/s]\n"
     ]
    },
    {
     "name": "stdout",
     "output_type": "stream",
     "text": [
      "1.098360655737705 15.295081967213115\n",
      "0.12147272238645526 89.22440204246169\n"
     ]
    },
    {
     "name": "stderr",
     "output_type": "stream",
     "text": [
      "100%|███████████████████████████████████████████| 50/50 [00:08<00:00,  6.13it/s]\n",
      "100%|███████████████████████████████████████████| 10/10 [00:00<00:00, 21.28it/s]\n"
     ]
    },
    {
     "name": "stdout",
     "output_type": "stream",
     "text": [
      "1.096774193548387 15.17741935483871\n",
      "0.11966701352757546 88.62981269510925\n"
     ]
    },
    {
     "name": "stderr",
     "output_type": "stream",
     "text": [
      "100%|███████████████████████████████████████████| 50/50 [00:09<00:00,  5.04it/s]\n",
      "100%|███████████████████████████████████████████| 10/10 [00:00<00:00, 20.59it/s]\n"
     ]
    },
    {
     "name": "stdout",
     "output_type": "stream",
     "text": [
      "1.0952380952380953 15.19047619047619\n",
      "0.11791383219954646 87.23356009070294\n"
     ]
    },
    {
     "name": "stderr",
     "output_type": "stream",
     "text": [
      "100%|███████████████████████████████████████████| 50/50 [00:08<00:00,  5.75it/s]\n",
      "100%|███████████████████████████████████████████| 10/10 [00:00<00:00, 22.73it/s]\n"
     ]
    },
    {
     "name": "stdout",
     "output_type": "stream",
     "text": [
      "1.09375 15.125\n",
      "0.1162109375 86.140625\n"
     ]
    },
    {
     "name": "stderr",
     "output_type": "stream",
     "text": [
      "100%|███████████████████████████████████████████| 50/50 [00:09<00:00,  5.53it/s]\n",
      "100%|███████████████████████████████████████████| 10/10 [00:00<00:00, 22.61it/s]\n"
     ]
    },
    {
     "name": "stdout",
     "output_type": "stream",
     "text": [
      "1.0923076923076922 15.046153846153846\n",
      "0.11455621301775148 85.21325443786982\n"
     ]
    },
    {
     "name": "stderr",
     "output_type": "stream",
     "text": [
      "100%|███████████████████████████████████████████| 50/50 [00:08<00:00,  5.75it/s]\n",
      "100%|███████████████████████████████████████████| 10/10 [00:00<00:00, 20.49it/s]\n"
     ]
    },
    {
     "name": "stdout",
     "output_type": "stream",
     "text": [
      "1.0909090909090908 14.954545454545455\n",
      "0.11294765840220386 84.46763085399449\n"
     ]
    },
    {
     "name": "stderr",
     "output_type": "stream",
     "text": [
      "100%|███████████████████████████████████████████| 50/50 [00:08<00:00,  5.73it/s]\n",
      "100%|███████████████████████████████████████████| 10/10 [00:00<00:00, 22.30it/s]\n"
     ]
    },
    {
     "name": "stdout",
     "output_type": "stream",
     "text": [
      "1.0895522388059702 14.91044776119403\n",
      "0.11138338159946536 83.33526397861439\n"
     ]
    },
    {
     "name": "stderr",
     "output_type": "stream",
     "text": [
      "100%|███████████████████████████████████████████| 50/50 [00:09<00:00,  5.45it/s]\n",
      "100%|███████████████████████████████████████████| 10/10 [00:00<00:00, 21.15it/s]\n"
     ]
    },
    {
     "name": "stdout",
     "output_type": "stream",
     "text": [
      "1.088235294117647 14.882352941176471\n",
      "0.10986159169550175 82.16262975778545\n"
     ]
    },
    {
     "name": "stderr",
     "output_type": "stream",
     "text": [
      "100%|███████████████████████████████████████████| 50/50 [00:09<00:00,  5.00it/s]\n",
      "100%|███████████████████████████████████████████| 10/10 [00:00<00:00, 12.43it/s]\n"
     ]
    },
    {
     "name": "stdout",
     "output_type": "stream",
     "text": [
      "1.0869565217391304 14.840579710144928\n",
      "0.1083805923125394 81.09052720016801\n"
     ]
    },
    {
     "name": "stderr",
     "output_type": "stream",
     "text": [
      "100%|███████████████████████████████████████████| 50/50 [00:09<00:00,  5.44it/s]\n",
      "100%|███████████████████████████████████████████| 10/10 [00:00<00:00, 22.07it/s]\n"
     ]
    },
    {
     "name": "stdout",
     "output_type": "stream",
     "text": [
      "1.0857142857142856 14.8\n",
      "0.10693877551020406 80.04571428571431\n"
     ]
    },
    {
     "name": "stderr",
     "output_type": "stream",
     "text": [
      "100%|███████████████████████████████████████████| 50/50 [00:10<00:00,  4.83it/s]\n",
      "100%|███████████████████████████████████████████| 10/10 [00:00<00:00, 21.82it/s]\n"
     ]
    },
    {
     "name": "stdout",
     "output_type": "stream",
     "text": [
      "1.0845070422535212 14.774647887323944\n",
      "0.10553461614758979 78.9633009323547\n"
     ]
    },
    {
     "name": "stderr",
     "output_type": "stream",
     "text": [
      "100%|███████████████████████████████████████████| 50/50 [00:07<00:00,  6.73it/s]\n",
      "100%|███████████████████████████████████████████| 10/10 [00:00<00:00, 22.47it/s]\n"
     ]
    },
    {
     "name": "stdout",
     "output_type": "stream",
     "text": [
      "1.0972222222222223 14.76388888888889\n",
      "0.11554783950617284 77.87480709876546\n"
     ]
    },
    {
     "name": "stderr",
     "output_type": "stream",
     "text": [
      "100%|███████████████████████████████████████████| 50/50 [00:09<00:00,  5.32it/s]\n",
      "100%|███████████████████████████████████████████| 10/10 [00:00<00:00, 21.10it/s]\n"
     ]
    },
    {
     "name": "stdout",
     "output_type": "stream",
     "text": [
      "1.095890410958904 14.712328767123287\n",
      "0.11409270031900919 76.9994370425971\n"
     ]
    },
    {
     "name": "stderr",
     "output_type": "stream",
     "text": [
      "100%|███████████████████████████████████████████| 50/50 [00:09<00:00,  5.11it/s]\n",
      "100%|███████████████████████████████████████████| 10/10 [00:00<00:00, 19.49it/s]\n"
     ]
    },
    {
     "name": "stdout",
     "output_type": "stream",
     "text": [
      "1.0945945945945945 14.64864864864865\n",
      "0.11267348429510593 76.25493060628197\n"
     ]
    },
    {
     "name": "stderr",
     "output_type": "stream",
     "text": [
      "100%|███████████████████████████████████████████| 50/50 [00:09<00:00,  5.53it/s]\n",
      "100%|███████████████████████████████████████████| 10/10 [00:00<00:00, 21.17it/s]\n"
     ]
    },
    {
     "name": "stdout",
     "output_type": "stream",
     "text": [
      "1.0933333333333333 14.64\n",
      "0.11128888888888888 75.24373333333334\n"
     ]
    },
    {
     "name": "stderr",
     "output_type": "stream",
     "text": [
      "100%|███████████████████████████████████████████| 50/50 [00:08<00:00,  5.69it/s]\n",
      "100%|███████████████████████████████████████████| 10/10 [00:00<00:00, 22.48it/s]\n"
     ]
    },
    {
     "name": "stdout",
     "output_type": "stream",
     "text": [
      "1.0921052631578947 14.578947368421053\n",
      "0.1099376731301939 74.5332409972299\n"
     ]
    },
    {
     "name": "stderr",
     "output_type": "stream",
     "text": [
      "100%|███████████████████████████████████████████| 50/50 [00:08<00:00,  5.67it/s]\n",
      "100%|███████████████████████████████████████████| 10/10 [00:00<00:00, 21.81it/s]\n"
     ]
    },
    {
     "name": "stdout",
     "output_type": "stream",
     "text": [
      "1.103896103896104 14.545454545454545\n",
      "0.11907572946533992 73.65053128689492\n"
     ]
    },
    {
     "name": "stderr",
     "output_type": "stream",
     "text": [
      "100%|███████████████████████████████████████████| 50/50 [00:08<00:00,  5.69it/s]\n",
      "100%|███████████████████████████████████████████| 10/10 [00:00<00:00, 21.64it/s]\n"
     ]
    },
    {
     "name": "stdout",
     "output_type": "stream",
     "text": [
      "1.1025641025641026 14.512820512820513\n",
      "0.11768573307034849 72.78829717291258\n"
     ]
    },
    {
     "name": "stderr",
     "output_type": "stream",
     "text": [
      "100%|███████████████████████████████████████████| 50/50 [00:07<00:00,  6.25it/s]\n",
      "100%|███████████████████████████████████████████| 10/10 [00:43<00:00,  4.39s/it]\n"
     ]
    },
    {
     "name": "stdout",
     "output_type": "stream",
     "text": [
      "1.1012658227848102 14.443037974683545\n",
      "0.11632751161672804 72.24675532767185\n"
     ]
    },
    {
     "name": "stderr",
     "output_type": "stream",
     "text": [
      "100%|███████████████████████████████████████████| 50/50 [00:10<00:00,  4.84it/s]\n",
      "100%|███████████████████████████████████████████| 10/10 [00:00<00:00, 20.15it/s]\n"
     ]
    },
    {
     "name": "stdout",
     "output_type": "stream",
     "text": [
      "1.1 14.4375\n",
      "0.11500000000000002 71.34609375\n"
     ]
    },
    {
     "name": "stderr",
     "output_type": "stream",
     "text": [
      "100%|███████████████████████████████████████████| 50/50 [00:07<00:00,  6.31it/s]\n",
      "100%|███████████████████████████████████████████| 10/10 [00:00<00:00, 20.14it/s]\n"
     ]
    },
    {
     "name": "stdout",
     "output_type": "stream",
     "text": [
      "1.0987654320987654 14.444444444444445\n",
      "0.11370217954580095 70.46913580246915\n"
     ]
    },
    {
     "name": "stderr",
     "output_type": "stream",
     "text": [
      "100%|███████████████████████████████████████████| 50/50 [00:08<00:00,  5.89it/s]\n",
      "100%|███████████████████████████████████████████| 10/10 [00:00<00:00, 20.05it/s]\n"
     ]
    },
    {
     "name": "stdout",
     "output_type": "stream",
     "text": [
      "1.0975609756097562 14.426829268292684\n",
      "0.11243307555026769 69.63488994646042\n"
     ]
    },
    {
     "name": "stderr",
     "output_type": "stream",
     "text": [
      "100%|███████████████████████████████████████████| 50/50 [00:08<00:00,  6.01it/s]\n",
      "100%|███████████████████████████████████████████| 10/10 [00:00<00:00, 21.60it/s]\n"
     ]
    },
    {
     "name": "stdout",
     "output_type": "stream",
     "text": [
      "1.0963855421686748 14.373493975903614\n",
      "0.11119175497169398 69.02917694875887\n"
     ]
    },
    {
     "name": "stderr",
     "output_type": "stream",
     "text": [
      "100%|███████████████████████████████████████████| 50/50 [00:08<00:00,  5.75it/s]\n",
      "100%|███████████████████████████████████████████| 10/10 [00:00<00:00, 21.35it/s]\n"
     ]
    },
    {
     "name": "stdout",
     "output_type": "stream",
     "text": [
      "1.0952380952380953 14.380952380952381\n",
      "0.10997732426303854 68.21201814058956\n"
     ]
    },
    {
     "name": "stderr",
     "output_type": "stream",
     "text": [
      "100%|███████████████████████████████████████████| 50/50 [00:10<00:00,  4.62it/s]\n",
      "100%|███████████████████████████████████████████| 10/10 [00:00<00:00, 21.93it/s]\n"
     ]
    },
    {
     "name": "stdout",
     "output_type": "stream",
     "text": [
      "1.0941176470588236 14.4\n",
      "0.10878892733564013 67.44000000000001\n"
     ]
    },
    {
     "name": "stderr",
     "output_type": "stream",
     "text": [
      "100%|███████████████████████████████████████████| 50/50 [00:08<00:00,  5.93it/s]\n",
      "100%|███████████████████████████████████████████| 10/10 [00:00<00:00, 20.61it/s]\n"
     ]
    },
    {
     "name": "stdout",
     "output_type": "stream",
     "text": [
      "1.0930232558139534 14.348837209302326\n",
      "0.10762574364521366 66.87831260140615\n"
     ]
    },
    {
     "name": "stderr",
     "output_type": "stream",
     "text": [
      "100%|███████████████████████████████████████████| 50/50 [00:09<00:00,  5.25it/s]\n",
      "100%|███████████████████████████████████████████| 10/10 [00:00<00:00, 22.49it/s]\n"
     ]
    },
    {
     "name": "stdout",
     "output_type": "stream",
     "text": [
      "1.0919540229885059 14.35632183908046\n",
      "0.10648698639186162 66.11441405733913\n"
     ]
    },
    {
     "name": "stderr",
     "output_type": "stream",
     "text": [
      "100%|███████████████████████████████████████████| 50/50 [00:08<00:00,  5.60it/s]\n",
      "100%|███████████████████████████████████████████| 10/10 [00:00<00:00, 22.72it/s]\n"
     ]
    },
    {
     "name": "stdout",
     "output_type": "stream",
     "text": [
      "1.0909090909090908 14.352272727272727\n",
      "0.10537190082644629 65.3645402892562\n"
     ]
    },
    {
     "name": "stderr",
     "output_type": "stream",
     "text": [
      "100%|███████████████████████████████████████████| 50/50 [00:09<00:00,  5.29it/s]\n",
      "100%|███████████████████████████████████████████| 10/10 [00:00<00:00, 20.36it/s]\n"
     ]
    },
    {
     "name": "stdout",
     "output_type": "stream",
     "text": [
      "1.101123595505618 14.337078651685394\n",
      "0.11336952404999369 64.65042292639818\n"
     ]
    },
    {
     "name": "stderr",
     "output_type": "stream",
     "text": [
      "100%|███████████████████████████████████████████| 50/50 [00:09<00:00,  5.06it/s]\n",
      "100%|███████████████████████████████████████████| 10/10 [00:00<00:00, 15.03it/s]\n"
     ]
    },
    {
     "name": "stdout",
     "output_type": "stream",
     "text": [
      "1.1 14.3\n",
      "0.11222222222222224 64.05444444444446\n"
     ]
    },
    {
     "name": "stderr",
     "output_type": "stream",
     "text": [
      "100%|███████████████████████████████████████████| 50/50 [00:08<00:00,  5.80it/s]\n",
      "100%|███████████████████████████████████████████| 10/10 [00:00<00:00, 25.91it/s]\n"
     ]
    },
    {
     "name": "stdout",
     "output_type": "stream",
     "text": [
      "1.098901098901099 14.285714285714286\n",
      "0.11109769351527593 63.36891679748823\n"
     ]
    },
    {
     "name": "stderr",
     "output_type": "stream",
     "text": [
      "100%|███████████████████████████████████████████| 50/50 [00:10<00:00,  4.77it/s]\n",
      "100%|███████████████████████████████████████████| 10/10 [00:00<00:00, 20.47it/s]\n"
     ]
    },
    {
     "name": "stdout",
     "output_type": "stream",
     "text": [
      "1.108695652173913 14.271739130434783\n",
      "0.11862003780718336 62.69789697542533\n"
     ]
    },
    {
     "name": "stderr",
     "output_type": "stream",
     "text": [
      "100%|███████████████████████████████████████████| 50/50 [00:08<00:00,  5.99it/s]\n",
      "100%|███████████████████████████████████████████| 10/10 [00:00<00:00, 20.69it/s]\n"
     ]
    },
    {
     "name": "stdout",
     "output_type": "stream",
     "text": [
      "1.118279569892473 14.258064516129032\n",
      "0.1257948895826107 62.04092958723551\n"
     ]
    },
    {
     "name": "stderr",
     "output_type": "stream",
     "text": [
      "100%|███████████████████████████████████████████| 50/50 [00:08<00:00,  5.97it/s]\n",
      "100%|███████████████████████████████████████████| 10/10 [00:00<00:00, 22.04it/s]\n"
     ]
    },
    {
     "name": "stdout",
     "output_type": "stream",
     "text": [
      "1.127659574468085 14.25531914893617\n",
      "0.13263920325939343 61.38162064282481\n"
     ]
    },
    {
     "name": "stderr",
     "output_type": "stream",
     "text": [
      "100%|███████████████████████████████████████████| 50/50 [00:09<00:00,  5.32it/s]\n",
      "100%|███████████████████████████████████████████| 10/10 [00:00<00:00, 21.30it/s]\n"
     ]
    },
    {
     "name": "stdout",
     "output_type": "stream",
     "text": [
      "1.1263157894736842 14.242105263157894\n",
      "0.1314127423822715 60.75191135734073\n"
     ]
    },
    {
     "name": "stderr",
     "output_type": "stream",
     "text": [
      "100%|███████████████████████████████████████████| 50/50 [00:07<00:00,  7.03it/s]\n",
      "100%|███████████████████████████████████████████| 10/10 [00:00<00:00, 21.05it/s]\n"
     ]
    },
    {
     "name": "stdout",
     "output_type": "stream",
     "text": [
      "1.125 14.177083333333334\n",
      "0.13020833333333334 60.520724826388886\n"
     ]
    },
    {
     "name": "stderr",
     "output_type": "stream",
     "text": [
      "100%|███████████████████████████████████████████| 50/50 [00:09<00:00,  5.25it/s]\n",
      "100%|███████████████████████████████████████████| 10/10 [00:00<00:00, 20.71it/s]\n"
     ]
    },
    {
     "name": "stdout",
     "output_type": "stream",
     "text": [
      "1.134020618556701 14.1340206185567\n",
      "0.13667764905941118 60.07482197895631\n"
     ]
    },
    {
     "name": "stderr",
     "output_type": "stream",
     "text": [
      "100%|███████████████████████████████████████████| 50/50 [00:07<00:00,  6.46it/s]\n",
      "100%|███████████████████████████████████████████| 10/10 [00:00<00:00, 21.89it/s]\n"
     ]
    },
    {
     "name": "stdout",
     "output_type": "stream",
     "text": [
      "1.1326530612244898 14.10204081632653\n",
      "0.1354643898375677 59.561016243232004\n"
     ]
    },
    {
     "name": "stderr",
     "output_type": "stream",
     "text": [
      "100%|███████████████████████████████████████████| 50/50 [00:08<00:00,  5.98it/s]\n",
      "100%|███████████████████████████████████████████| 10/10 [00:00<00:00, 23.13it/s]\n"
     ]
    },
    {
     "name": "stdout",
     "output_type": "stream",
     "text": [
      "1.1313131313131313 14.05050505050505\n",
      "0.13427201305989186 59.21967146209571\n"
     ]
    },
    {
     "name": "stderr",
     "output_type": "stream",
     "text": [
      "100%|███████████████████████████████████████████| 50/50 [00:06<00:00,  7.42it/s]\n",
      "100%|███████████████████████████████████████████| 10/10 [00:00<00:00, 21.27it/s]"
     ]
    },
    {
     "name": "stdout",
     "output_type": "stream",
     "text": [
      "1.13 14.03\n",
      "0.1331 58.6691\n"
     ]
    },
    {
     "name": "stderr",
     "output_type": "stream",
     "text": [
      "\n"
     ]
    }
   ],
   "source": [
    "stabs_01, stabs_sr_01 = compute_stability(results, explainer, size=100, nb_perturb=50, eps=0.1)"
   ]
  },
  {
   "cell_type": "code",
   "execution_count": 79,
   "id": "9ea78445",
   "metadata": {},
   "outputs": [
    {
     "data": {
      "text/plain": [
       "14.03"
      ]
     },
     "execution_count": 79,
     "metadata": {},
     "output_type": "execute_result"
    }
   ],
   "source": [
    "np.mean(stabs_01)"
   ]
  },
  {
   "cell_type": "code",
   "execution_count": 80,
   "id": "449842d0",
   "metadata": {},
   "outputs": [
    {
     "data": {
      "text/plain": [
       "58.6691"
      ]
     },
     "execution_count": 80,
     "metadata": {},
     "output_type": "execute_result"
    }
   ],
   "source": [
    "np.var(stabs_01)"
   ]
  },
  {
   "cell_type": "code",
   "execution_count": 81,
   "id": "5a6eaf92",
   "metadata": {},
   "outputs": [
    {
     "data": {
      "text/plain": [
       "1.13"
      ]
     },
     "execution_count": 81,
     "metadata": {},
     "output_type": "execute_result"
    }
   ],
   "source": [
    "np.mean(stabs_sr_01)"
   ]
  },
  {
   "cell_type": "code",
   "execution_count": 82,
   "id": "7be4e581",
   "metadata": {},
   "outputs": [
    {
     "data": {
      "text/plain": [
       "0.1331"
      ]
     },
     "execution_count": 82,
     "metadata": {},
     "output_type": "execute_result"
    }
   ],
   "source": [
    "np.var(stabs_sr_01)"
   ]
  }
 ],
 "metadata": {
  "kernelspec": {
   "display_name": "Python 3 (ipykernel)",
   "language": "python",
   "name": "python3"
  },
  "language_info": {
   "codemirror_mode": {
    "name": "ipython",
    "version": 3
   },
   "file_extension": ".py",
   "mimetype": "text/x-python",
   "name": "python",
   "nbconvert_exporter": "python",
   "pygments_lexer": "ipython3",
   "version": "3.8.13"
  }
 },
 "nbformat": 4,
 "nbformat_minor": 5
}
