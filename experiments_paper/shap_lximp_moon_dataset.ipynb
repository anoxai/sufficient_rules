{
 "cells": [
  {
   "cell_type": "code",
   "execution_count": 1,
   "id": "3ec41773",
   "metadata": {},
   "outputs": [],
   "source": [
    "import pandas as pd\n",
    "from sklearn.model_selection import train_test_split\n",
    "from acv_explainers import ACXplainer\n",
    "from acv_explainers.utils import *\n",
    "from sklearn.metrics import roc_auc_score, accuracy_score\n",
    "import argparse\n",
    "import numpy as np\n",
    "# from acv_explainers.utils import generate_dataset\n",
    "# from experiments.utils import feature_performance_metric, prediction_performance_metric   \n",
    "from sklearn.metrics import mean_squared_error\n",
    "from sklearn.ensemble import RandomForestClassifier\n",
    "from sklearn.metrics import mean_squared_error\n",
    "# from skranger.ensemble.classifier import RangerForestClassifier\n",
    "from sklearn.ensemble import RandomForestRegressor\n",
    "from acv_explainers.acv_tree import ACVTreeAgnostic\n",
    "# Necessary packages\n",
    "import numpy as np\n",
    "from sklearn.metrics import roc_auc_score, average_precision_score, accuracy_score\n",
    "import pandas as pd\n",
    "import seaborn as sns\n",
    "import matplotlib.pyplot as plt\n",
    "import scipy.stats as st\n",
    "import sys\n",
    "import itertools\n",
    "from collections import defaultdict\n",
    "from operator import itemgetter\n",
    "import string\n",
    "import random\n",
    "import scipy.stats as stats\n",
    "from typing import Tuple, List\n",
    "from sklearn.cluster import AffinityPropagation\n",
    "import matplotlib.pyplot as plt\n",
    "import numpy as np\n",
    "import pandas as pd\n",
    "import seaborn as sns\n",
    "from sklearn.preprocessing import OrdinalEncoder\n",
    "from sklearn import datasets"
   ]
  },
  {
   "cell_type": "markdown",
   "id": "f0b3a10a",
   "metadata": {},
   "source": [
    "# Generate Moon Data"
   ]
  },
  {
   "cell_type": "code",
   "execution_count": 2,
   "id": "44cff38a",
   "metadata": {},
   "outputs": [],
   "source": [
    "def generate_x(n, dim):\n",
    "    \"\"\"Generate the features (x).\n",
    "\n",
    "  Args:\n",
    "    - n: the number of samples\n",
    "    - dim: the number of features (feature dimensions)\n",
    "\n",
    "  Returns:\n",
    "    - x: (n x dim) data points sample from N(0, 1)\n",
    "  \"\"\"\n",
    "    x = np.random.randn(n, dim)\n",
    "    return x\n",
    "\n",
    "\n",
    "def generate_y(x, data_type, reg=False, coefs=None, logit_values=True):\n",
    "    \"\"\"Generate corresponding label (y) given feature (x).\n",
    "\n",
    "  Args:\n",
    "    - x: features\n",
    "    - data_type: synthetic data type (syn1 to syn6)\n",
    "\n",
    "  Returns:\n",
    "    - y: corresponding labels\n",
    "  \"\"\"\n",
    "    # number of samples\n",
    "    n = x.shape[0]\n",
    "    if reg:\n",
    "        if data_type == 'syn7':\n",
    "            logit1 = np.sum(coefs[0:2] * x[:, 0:2], axis=1)\n",
    "            logit2 = np.sum(coefs[2:4] * x[:, 2:4], axis=1)\n",
    "            idx1 = (x[:, 4] < 0) * 1\n",
    "            idx2 = (x[:, 4] >= 0) * 1\n",
    "            logit = logit1 * idx1 + logit2 * idx2\n",
    "            return logit\n",
    "        elif data_type == 'syn8':\n",
    "            return np.sum(coefs[:3] * x[:, :3], axis=1)\n",
    "        elif data_type == 'syn9':\n",
    "            logit1 = np.sum(x[:, 2:6] ** 2, axis=1) - 4.0\n",
    "            logit2 = -10 * np.sin(0.2 * x[:, 6]) + abs(x[:, 7]) + \\\n",
    "                     x[:, 8] + np.exp(-x[:, 9]) - 2.4\n",
    "\n",
    "            idx1 = (x[:, 10] < 0) * 1\n",
    "            idx2 = (x[:, 10] >= 0) * 1\n",
    "            logit = logit1 * idx1 + logit2 * idx2\n",
    "            return logit\n",
    "\n",
    "    # Logit computation\n",
    "    if data_type == 'syn1':\n",
    "        logit = np.exp(x[:, 0] * x[:, 1])\n",
    "    elif data_type == 'syn2':\n",
    "        logit = np.exp(np.sum(x[:, 2:6] ** 2, axis=1) - 4.0)\n",
    "    elif data_type == 'syn3':\n",
    "        logit = np.exp(-10 * np.sin(0.2 * x[:, 6]) + abs(x[:, 7]) + \\\n",
    "                       x[:, 8] + np.exp(-x[:, 9]) - 2.4)\n",
    "    elif data_type == 'syn4':\n",
    "        logit1 = np.exp(x[:, 0] * x[:, 1])\n",
    "        logit2 = np.exp(np.sum(x[:, 2:6] ** 2, axis=1) - 4.0)\n",
    "    elif data_type == 'syn5':\n",
    "        logit1 = np.exp(x[:, 0] * x[:, 1])\n",
    "        logit2 = np.exp(-10 * np.sin(0.2 * x[:, 6]) + abs(x[:, 7]) + \\\n",
    "                        x[:, 8] + np.exp(-x[:, 9]) - 2.4)\n",
    "    elif data_type == 'syn6':\n",
    "        logit1 = np.exp(np.sum(x[:, 2:6] ** 2, axis=1) - 4.0)\n",
    "        logit2 = np.exp(-10 * np.sin(0.2 * x[:, 6]) + abs(x[:, 7]) + \\\n",
    "                        x[:, 8] + np.exp(-x[:, 9]) - 2.4)\n",
    "\n",
    "        # For syn4, syn5 and syn6 only\n",
    "    if data_type in ['syn4', 'syn5', 'syn6']:\n",
    "        # Based on X[:,10], combine two logits\n",
    "        idx1 = (x[:, 10] < 0) * 1\n",
    "        idx2 = (x[:, 10] >= 0) * 1\n",
    "        logit = logit1 * idx1 + logit2 * idx2\n",
    "\n",
    "    if not logit_values:\n",
    "        # Compute P(Y=0|X)\n",
    "        prob_0 = np.reshape((logit / (1 + logit)), [n, 1])\n",
    "\n",
    "        # # Sampling process\n",
    "        y = np.zeros([n, 2])\n",
    "        y[:, 0] = np.reshape(np.random.binomial(1, prob_0), [n, ])\n",
    "        y[:, 1] = 1 - y[:, 0]\n",
    "        return y[:, 1]\n",
    "    return logit / (1 + logit)\n",
    "\n",
    "\n",
    "def generate_ground_truth(x, data_type):\n",
    "    \"\"\"Generate ground truth feature importance corresponding to the data type\n",
    "     and feature.\n",
    "\n",
    "  Args:\n",
    "    - x: features\n",
    "    - data_type: synthetic data type (syn1 to syn6)\n",
    "\n",
    "  Returns:\n",
    "    - ground_truth: corresponding ground truth feature importance\n",
    "  \"\"\"\n",
    "\n",
    "    # Number of samples and features\n",
    "    n, d = x.shape\n",
    "\n",
    "    # Output initialization\n",
    "    ground_truth = np.zeros([n, d])\n",
    "\n",
    "    # For each data_type\n",
    "    if data_type == 'syn1':\n",
    "        ground_truth[:, :2] = 1\n",
    "    elif data_type == 'syn2':\n",
    "        ground_truth[:, 2:6] = 1\n",
    "    elif data_type == 'syn3':\n",
    "        ground_truth[:, 6:10] = 1\n",
    "\n",
    "    # Index for syn4, syn5 and syn6\n",
    "    if data_type in ['syn4', 'syn5', 'syn6', 'syn9']:\n",
    "        idx1 = np.where(x[:, 10] < 0)[0]\n",
    "        idx2 = np.where(x[:, 10] >= 0)[0]\n",
    "        ground_truth[:, 10] = 1\n",
    "\n",
    "    if data_type == 'syn4':\n",
    "        ground_truth[idx1, :2] = 1\n",
    "        ground_truth[idx2, 2:6] = 1\n",
    "    elif data_type == 'syn5':\n",
    "        ground_truth[idx1, :2] = 1\n",
    "        ground_truth[idx2, 6:10] = 1\n",
    "    elif data_type == 'syn6':\n",
    "        ground_truth[idx1, 2:6] = 1\n",
    "        ground_truth[idx2, 6:10] = 1\n",
    "    elif data_type == 'syn7':\n",
    "        idx1 = np.where(x[:, 4] < 0)[0]\n",
    "        idx2 = np.where(x[:, 4] >= 0)[0]\n",
    "        ground_truth[:, 4] = 1\n",
    "\n",
    "        ground_truth[idx1, 0:2] = 1\n",
    "        ground_truth[idx2, 2:4] = 1\n",
    "    elif data_type == 'syn8':\n",
    "        ground_truth[:, :3] = 1\n",
    "        # ground_truth[idx2, 6:10] = 1\n",
    "    elif data_type == 'syn9':\n",
    "        ground_truth[idx1, :2] = 1\n",
    "        ground_truth[idx2, 6:10] = 1\n",
    "\n",
    "    return ground_truth\n",
    "\n",
    "\n",
    "def generate_moons(x):\n",
    "    moon_x, y = datasets.make_moons(n_samples=x.shape[0], noise=4 * 0.01)\n",
    "    x = np.concatenate([moon_x, x], axis=1)\n",
    "    for i in range(x.shape[0]):\n",
    "        if x[i, 2] <= 0:\n",
    "            if y[i] == 0:\n",
    "                y[i] = 1\n",
    "            else:\n",
    "                y[i] = 0\n",
    "    ground_truth = np.zeros(shape=x.shape)\n",
    "    ground_truth[:, :3] = 1\n",
    "    return x, y, ground_truth\n",
    "\n",
    "\n",
    "def generate_dataset(mean, cov, n=10000, dim=11, data_type='syn1', seed=0, reg=False, coefs=None, logit_values=True):\n",
    "    \"\"\"Generate dataset (x, y, ground_truth).\n",
    "\n",
    "  Args:\n",
    "    - n: the number of samples\n",
    "    - dim: the number of dimensions\n",
    "    - data_type: synthetic data type (syn1 to syn6)\n",
    "    - seed: random seed\n",
    "\n",
    "  Returns:\n",
    "    - x: features\n",
    "    - y: labels\n",
    "    - ground_truth: ground truth feature importance\n",
    "  \"\"\"\n",
    "\n",
    "    # Seed\n",
    "    np.random.seed(seed)\n",
    "\n",
    "    # x generation\n",
    "    data_gen = st.multivariate_normal(mean, cov)\n",
    "    x = data_gen.rvs(n)\n",
    "    if data_type == 'syn_moons':\n",
    "        x, y, ground_truth = generate_moons(x)\n",
    "        return x, y, ground_truth\n",
    "\n",
    "    # x = generate_x(n, dim)\n",
    "    # y generation\n",
    "    y = generate_y(x, data_type, reg, coefs, logit_values)\n",
    "    # ground truth generation\n",
    "    ground_truth = generate_ground_truth(x, data_type)\n",
    "\n",
    "    return x, y, ground_truth\n",
    "parser = argparse.ArgumentParser()\n",
    "parser.add_argument(\n",
    "  '--data_type',\n",
    "  choices=['syn1','syn2','syn3','syn4','syn5','syn6', 'syn7', 'syn8', 'syn_moons'],\n",
    "  default='syn_moons',\n",
    "  type=str)\n",
    "parser.add_argument(\n",
    "  '--train_no',\n",
    "  help='the number of training data',\n",
    "  default=10000,\n",
    "  type=int)\n",
    "parser.add_argument(\n",
    "  '--test_no',\n",
    "  help='the number of testing data',\n",
    "  default=10000,\n",
    "  type=int)\n",
    "parser.add_argument(\n",
    "  '--dim',\n",
    "  help='the number of features',\n",
    "  choices=[11, 100],\n",
    "  default=50,\n",
    "  type=int)\n",
    "\n",
    "args = parser.parse_args([]) \n",
    "\n",
    "# Generate dataset\n",
    "d = args.dim\n",
    "p = 0.8\n",
    "mean = np.zeros(d)\n",
    "coefs = np.ones(d)\n",
    "# Determinitist covariance\n",
    "cov = p*np.ones(shape=(d, d)) + 5*np.eye(d)\n",
    "# b = np.random.randn(d, d)\n",
    "# cov = np.dot(b, b.T)\n",
    "\n",
    "x_train, y_train, g_train = generate_dataset (mean, cov, n = args.train_no, \n",
    "                                            dim = args.dim, \n",
    "                                            data_type = args.data_type, \n",
    "                                            seed = 0, reg=True, coefs=coefs)\n",
    "\n",
    "x_test, y_test, g_test = generate_dataset (mean, cov, n = args.test_no,\n",
    "                                         dim = args.dim, \n",
    "                                         data_type = args.data_type, \n",
    "                                         seed = 5, reg=True, coefs=coefs)\n",
    "# X_train = x_train.copy()\n",
    "# X_test = x_test.copy()\n",
    "columns_name = ['X_1', 'X_2'] + ['Z_{}'.format(i) for i in range(1, x_train.shape[1]-1)]\n",
    "max_size = 10000\n",
    "x_train = pd.DataFrame(x_train[:max_size], columns=columns_name)\n",
    "x_test = pd.DataFrame(x_test[:max_size], columns=columns_name)\n",
    "y_test = pd.DataFrame(y_test[:max_size])\n",
    "y_train = pd.DataFrame(y_train[:max_size])\n",
    "y_train = y_train.values.squeeze()\n",
    "y_test = y_test.values.squeeze()\n",
    "\n",
    "X_train = x_train.values\n",
    "X_test = x_test.values"
   ]
  },
  {
   "cell_type": "markdown",
   "id": "ae963dbf",
   "metadata": {},
   "source": [
    "### Train Explainer (ACXplainer)"
   ]
  },
  {
   "cell_type": "code",
   "execution_count": 4,
   "id": "88010ce1",
   "metadata": {},
   "outputs": [
    {
     "name": "stdout",
     "output_type": "stream",
     "text": [
      "# Trained ACXplainer -- score = 0.9931\n"
     ]
    }
   ],
   "source": [
    "\n",
    "acv_xplainer = ACXplainer(classifier=True, n_estimators=20, max_depth=10, mtry=x_train.shape[1])\n",
    "acv_xplainer.fit(X_train, y_train)\n",
    "\n",
    "print('# Trained ACXplainer -- score = {}'.format(accuracy_score(y_test, acv_xplainer.predict(X_test))))\n",
    "\n",
    "# idx = 0\n",
    "# size = idx + 500\n",
    "x, y = X_test[:500], y_test[:500]\n",
    "x_rules, y_rules = X_train[:1000], y_train[:1000]"
   ]
  },
  {
   "cell_type": "code",
   "execution_count": 5,
   "id": "210cf27e",
   "metadata": {},
   "outputs": [],
   "source": [
    "# sdp_importance, min_sufficient_expl, size, sdp = acv_xplainer.importance_sdp_rf(x, y, X_train, y_train, pi_level=0.9)"
   ]
  },
  {
   "cell_type": "markdown",
   "id": "a24ff609",
   "metadata": {},
   "source": [
    "### Compute the Sufficient Explanations and the LXI"
   ]
  },
  {
   "cell_type": "code",
   "execution_count": 6,
   "id": "ac684564",
   "metadata": {},
   "outputs": [
    {
     "name": "stderr",
     "output_type": "stream",
     "text": [
      "100%|███████████████████████████████████████████| 20/20 [00:00<00:00, 44.98it/s]\n",
      "100%|████████████████████████████████████████| 10/10 [2:22:36<00:00, 855.64s/it]\n"
     ]
    }
   ],
   "source": [
    "sufficient_expl, sdp_expl, sdp_global = acv_xplainer.sufficient_expl_rf(x, y, X_train, y_train, pi_level=0.8)"
   ]
  },
  {
   "cell_type": "code",
   "execution_count": 7,
   "id": "1e48e5aa",
   "metadata": {},
   "outputs": [],
   "source": [
    "def compute_lximp(sufficient_expl, d):\n",
    "    local_sdp = np.zeros(shape=(len(sufficient_expl), d))\n",
    "    for idx in range(len(sufficient_expl)):\n",
    "        sufficient_coal = sufficient_expl[idx][1:]    \n",
    "        flat = [item for sublist in sufficient_coal for item in sublist]\n",
    "        flat = pd.Series(flat)\n",
    "        flat = dict(flat.value_counts() / len(sufficient_coal))\n",
    "        for key in flat.keys():\n",
    "            local_sdp[idx, key] = flat[key]\n",
    "    return local_sdp"
   ]
  },
  {
   "cell_type": "code",
   "execution_count": 8,
   "id": "5a86dbf3",
   "metadata": {},
   "outputs": [],
   "source": [
    "lximp = compute_lximp(sufficient_expl, X_train.shape[1])"
   ]
  },
  {
   "cell_type": "markdown",
   "id": "deb4f53d",
   "metadata": {},
   "source": [
    "### Plotting attributions "
   ]
  },
  {
   "cell_type": "code",
   "execution_count": 9,
   "id": "a6960f0b",
   "metadata": {},
   "outputs": [],
   "source": [
    "def bar_legacy(shap_values, features=None, feature_names=None, max_display=None, show=True,\n",
    "               name='Frequency of apparition in the Sufficient Coalitions'):\n",
    "    # unwrap pandas series\n",
    "\n",
    "    fig = plt.figure()\n",
    "\n",
    "    if str(type(features)) == \"<class 'pandas.core.series.Series'>\":\n",
    "        if feature_names is None:\n",
    "            feature_names = list(features.index)\n",
    "        features = features.values\n",
    "\n",
    "    if feature_names is None:\n",
    "        feature_names = np.array([labels['FEATURE'] % str(i) for i in range(len(shap_values))])\n",
    "\n",
    "    if max_display is None:\n",
    "        max_display = 7\n",
    "    else:\n",
    "        max_display = min(len(feature_names), max_display)\n",
    "\n",
    "    feature_order = np.argsort(-np.abs(shap_values))\n",
    "\n",
    "    #\n",
    "    feature_inds = feature_order[:max_display]\n",
    "    y_pos = np.arange(len(feature_inds), 0, -1)\n",
    "    plt.barh(\n",
    "        y_pos, shap_values[feature_inds],\n",
    "        0.7, align='center',\n",
    "        color=[colors.red_rgb if shap_values[feature_inds[i]] < 0 else colors.blue_rgb for i in range(len(y_pos))]\n",
    "    )\n",
    "    for y in range(len(y_pos)):\n",
    "        plt.text(shap_values[feature_inds][y] + 0.001, y_pos[y] - 0.07, round(shap_values[feature_inds][y], 3))\n",
    "\n",
    "    plt.yticks(y_pos, fontsize=13)\n",
    "    if features is not None:\n",
    "        features = list(features)\n",
    "\n",
    "        # try and round off any trailing zeros after the decimal point in the feature values\n",
    "        for i in range(len(features)):\n",
    "            try:\n",
    "                if round(features[i]) == features[i]:\n",
    "                    features[i] = int(features[i])\n",
    "            except TypeError:\n",
    "                pass  # features[i] must not be a number\n",
    "    yticklabels = []\n",
    "    for i in feature_inds:\n",
    "        if features is not None:\n",
    "            yticklabels.append(feature_names[i] + \" = \" + str(features[i]))\n",
    "        else:\n",
    "            yticklabels.append(feature_names[i])\n",
    "    plt.gca().set_yticklabels(yticklabels)\n",
    "    plt.gca().xaxis.set_ticks_position('bottom')\n",
    "    plt.gca().yaxis.set_ticks_position('none')\n",
    "    plt.gca().spines['right'].set_visible(False)\n",
    "    plt.gca().spines['top'].set_visible(False)\n",
    "    # plt.gca().spines['left'].set_visible(False)\n",
    "\n",
    "#     plt.xlabel(\"{}\".format(name))\n",
    "    return fig"
   ]
  },
  {
   "cell_type": "code",
   "execution_count": 38,
   "id": "20e6af4e",
   "metadata": {},
   "outputs": [],
   "source": [
    "columns_name = ['X_1', 'X_2'] + ['Z_{}'.format(str(i)) for i in range(1, x_train.shape[1]-1)]"
   ]
  },
  {
   "cell_type": "code",
   "execution_count": 39,
   "id": "726add69",
   "metadata": {},
   "outputs": [],
   "source": [
    "from acv_app.colors import _colors as colors"
   ]
  },
  {
   "cell_type": "code",
   "execution_count": 47,
   "id": "2252afed",
   "metadata": {},
   "outputs": [
    {
     "data": {
      "image/png": "[encoded data removed]",
      "text/plain": [
       "<Figure size 432x288 with 1 Axes>"
      ]
     },
     "metadata": {
      "needs_background": "light"
     },
     "output_type": "display_data"
    }
   ],
   "source": [
    "fig = bar_legacy(lximp[0], features=np.round(x[0], 2), feature_names=columns_name) # LXI importance"
   ]
  },
  {
   "cell_type": "code",
   "execution_count": 41,
   "id": "70e9f07b",
   "metadata": {},
   "outputs": [],
   "source": [
    "from shap import TreeExplainer\n",
    "from skranger.ensemble import RangerForestClassifier\n",
    "from skranger.utils.shap import shap_patch\n",
    "\n",
    "with shap_patch():\n",
    "    explainer = TreeExplainer(model=acv_xplainer.model)"
   ]
  },
  {
   "cell_type": "code",
   "execution_count": 42,
   "id": "1ab3f93d",
   "metadata": {},
   "outputs": [],
   "source": [
    "shap_values = explainer.shap_values(x)[1]"
   ]
  },
  {
   "cell_type": "code",
   "execution_count": 46,
   "id": "6cbc1cb0",
   "metadata": {},
   "outputs": [
    {
     "data": {
      "image/png": "[encoded data removed]",
      "text/plain": [
       "<Figure size 432x288 with 1 Axes>"
      ]
     },
     "metadata": {
      "needs_background": "light"
     },
     "output_type": "display_data"
    }
   ],
   "source": [
    "fig_shap = bar_legacy(shap_values[0], features=np.round(x[0], 2), feature_names=columns_name) # shap values"
   ]
  },
  {
   "cell_type": "markdown",
   "id": "72821a0e",
   "metadata": {},
   "source": [
    "### Plotting mean attributions"
   ]
  },
  {
   "cell_type": "code",
   "execution_count": 44,
   "id": "1d4f8b79",
   "metadata": {},
   "outputs": [
    {
     "data": {
      "image/png": "[encoded data removed]",
      "text/plain": [
       "<Figure size 432x288 with 1 Axes>"
      ]
     },
     "metadata": {
      "needs_background": "light"
     },
     "output_type": "display_data"
    }
   ],
   "source": [
    "fig = bar_legacy(np.mean(lximp, axis=0), feature_names=columns_name) # LXI mean importance"
   ]
  },
  {
   "cell_type": "code",
   "execution_count": 45,
   "id": "a6820779",
   "metadata": {},
   "outputs": [
    {
     "data": {
      "image/png": "[encoded data removed]",
      "text/plain": [
       "<Figure size 432x288 with 1 Axes>"
      ]
     },
     "metadata": {
      "needs_background": "light"
     },
     "output_type": "display_data"
    }
   ],
   "source": [
    "fig = bar_legacy(np.mean(np.abs(shap_values), axis=0), feature_names=columns_name) # SHAP mean absolute importance"
   ]
  }
 ],
 "metadata": {
  "kernelspec": {
   "display_name": "Python 3 (ipykernel)",
   "language": "python",
   "name": "python3"
  },
  "language_info": {
   "codemirror_mode": {
    "name": "ipython",
    "version": 3
   },
   "file_extension": ".py",
   "mimetype": "text/x-python",
   "name": "python",
   "nbconvert_exporter": "python",
   "pygments_lexer": "ipython3",
   "version": "3.8.13"
  }
 },
 "nbformat": 4,
 "nbformat_minor": 5
}
