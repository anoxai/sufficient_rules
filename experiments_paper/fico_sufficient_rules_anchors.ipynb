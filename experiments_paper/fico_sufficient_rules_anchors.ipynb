{
 "cells": [
  {
   "cell_type": "code",
   "execution_count": 1,
   "id": "8177c991",
   "metadata": {},
   "outputs": [
    {
     "name": "stdout",
     "output_type": "stream",
     "text": [
      "# Demonstration: FICO\n",
      "| | Feature | Type | Value | Mutable |\n",
      "| --- | --- | --- | :---: | :---: |\n",
      "| 1 | ExternalRiskEstimate | Integer | [0, 94] | True |\n",
      "| 2 | MSinceOldestTradeOpen | Integer | [0, 803] | True |\n",
      "| 3 | MSinceMostRecentTradeOpen | Integer | [0, 383] | True |\n",
      "| 4 | AverageMInFile | Integer | [4, 383] | True |\n",
      "| 5 | NumSatisfactoryTrades | Integer | [0, 79] | True |\n",
      "| 6 | NumTrades60Ever2DerogPubRec | Integer | [0, 19] | True |\n",
      "| 7 | NumTrades90Ever2DerogPubRec | Integer | [0, 19] | True |\n",
      "| 8 | PercentTradesNeverDelq | Integer | [0, 100] | True |\n",
      "| 9 | MSinceMostRecentDelq | Integer | [0, 83] | True |\n",
      "| 10 | MaxDelq2PublicRecLast12M | Integer | [0, 9] | True |\n",
      "| 11 | MaxDelqEver | Integer | [2, 8] | True |\n",
      "| 12 | NumTotalTrades | Integer | [0, 104] | True |\n",
      "| 13 | NumTradesOpeninLast12M | Integer | [0, 19] | True |\n",
      "| 14 | PercentInstallTrades | Integer | [0, 100] | True |\n",
      "| 15 | MSinceMostRecentInqexcl7days | Integer | [0, 24] | True |\n",
      "| 16 | NumInqLast6M | Integer | [0, 66] | True |\n",
      "| 17 | NumInqLast6Mexcl7days | Integer | [0, 66] | True |\n",
      "| 18 | NetFractionRevolvingBurden | Integer | [0, 232] | True |\n",
      "| 19 | NetFractionInstallBurden | Integer | [0, 471] | True |\n",
      "| 20 | NumRevolvingTradesWBalance | Integer | [0, 32] | True |\n",
      "| 21 | NumInstallTradesWBalance | Integer | [0, 23] | True |\n",
      "| 22 | NumBank2NatlTradesWHighUtilization | Integer | [0, 18] | True |\n",
      "| 23 | PercentTradesWBalance | Integer | [0, 100] | True |\n",
      "\n"
     ]
    }
   ],
   "source": [
    "import numpy as np\n",
    "from acv_explainers import ACXplainer\n",
    "from acv_explainers.utils import *\n",
    "from sklearn.linear_model import LogisticRegression\n",
    "from utils import DatasetHelper, DATASETS_NAME\n",
    "from sklearn.metrics import roc_auc_score, accuracy_score\n",
    "import warnings\n",
    "warnings.filterwarnings('ignore')\n",
    "\n",
    "# Load FICO dataset\n",
    "\n",
    "GAMMA = 1.0\n",
    "dataset = 'h'\n",
    "dataset_name = DATASETS_NAME[dataset]\n",
    "model= 'X'\n",
    "\n",
    "np.random.seed(0)\n",
    "LAMBDA = 0.01\n",
    "GAMMA = 1.0\n",
    "\n",
    "D = DatasetHelper(dataset=dataset, feature_prefix_index=False)\n",
    "\n",
    "for i in range(len(D.feature_names)):\n",
    "    D.feature_names[i] = D.feature_names[i].replace(\" \", \"\")\n",
    "    \n",
    "columns_names = D.feature_names\n",
    "columns_id = {}\n",
    "for i, col in enumerate(columns_names):\n",
    "    columns_id[col] = i\n",
    "columns_id\n",
    "\n",
    "    \n",
    "print('# Demonstration:', D.dataset_fullname)\n",
    "print(D.to_markdown())"
   ]
  },
  {
   "cell_type": "code",
   "execution_count": null,
   "id": "37863c97",
   "metadata": {},
   "outputs": [],
   "source": [
    "# run the following line to run experiment and get results\n",
    "\n",
    "# X_tr, X_ts, y_tr, y_ts = D.train_test_split()\n",
    "\n",
    "# if(model=='L'):\n",
    "#     print('* Classifier: LogisticRegression')\n",
    "#     mdl = LogisticRegression(penalty='l2', C=1.0, solver='liblinear')\n",
    "#     print('\\t* C: {}'.format(mdl.C)); print('\\t* penalty: {}'.format(mdl.penalty));\n",
    "# elif(model=='X'):\n",
    "#     print('* Classifier: LightGBM')\n",
    "#     mdl = LGBMClassifier(n_estimators=50, num_leaves=8)\n",
    "#     print('\\t* n_estimators: {}'.format(mdl.n_estimators)); print('\\t* num_leaves: {}'.format(mdl.num_leaves));\n",
    "# elif(model=='T'):\n",
    "#     print('* Classifier: TabNet')\n",
    "#     mdl = MyTabNetClassifier(D.feature_types, verbose=0)\n",
    "    \n",
    "# mdl = mdl.fit(X_tr, y_tr, X_vl=X_ts, y_vl=y_ts) if model=='T' else mdl.fit(X_tr, y_tr)\n",
    "# X = X_tr[mdl.predict(X_tr)==1]; X_vl = X_ts[mdl.predict(X_ts)==1];\n",
    "# print('\\t* train score: ', mdl.score(X_tr, y_tr)); print('\\t* train denied: ', X.shape[0]);\n",
    "# print('\\t* test score: ', mdl.score(X_ts, y_ts)); print('\\t* test denied: ', X_vl.shape[0]); print();\n",
    "\n",
    "# x_train = X_tr.copy()\n",
    "# x_test = X_ts.copy()\n",
    "# y_train = mdl.predict(X_tr)\n",
    "# y_test = mdl.predict(X_ts)\n",
    "\n",
    "# ### Train Explainer (ACXplainer)\n",
    "# ac_explainer = ACXplainer(classifier=True, n_estimators=20, max_depth=12)\n",
    "# ac_explainer.fit(x_train, y_train)\n",
    "\n",
    "# print('# Trained ACXplainer -- score = {}'.format(accuracy_score(y_test, ac_explainer.predict(x_test))))\n",
    "\n",
    "# x, y = x_test[:500], y_test[:500]\n",
    "# x_rules, y_rules = x_train[:1000], y_train[:1000]\n",
    "\n",
    "# columns_name = D.feature_names\n",
    "\n",
    "# results = RunExperiments(ac_explainer, x_train, x_test, y_train, y_test, columns_name, model=mdl)\n",
    "\n",
    "# results.run_sufficient_rules(x_rules, y_rules, pi_level=0.9)"
   ]
  },
  {
   "cell_type": "code",
   "execution_count": 2,
   "id": "b167d346",
   "metadata": {},
   "outputs": [],
   "source": [
    "results = load_model('/home/xxxxxx/Documents/experiments_counterfactualsrules2022/FICOCR22_results'.format(dataset_name))"
   ]
  },
  {
   "cell_type": "code",
   "execution_count": 3,
   "id": "295cdc93",
   "metadata": {},
   "outputs": [],
   "source": [
    "def get_sr_results(x_test, rules, x_rules, y_rules, s_star, predict):\n",
    "    N = rules.shape[0]\n",
    "    d = rules.shape[1]\n",
    "    \n",
    "    coverages = []\n",
    "    accuracies = []\n",
    "    supports = []\n",
    "    for idx in tqdm(range(N)):\n",
    "        x_in = np.prod([(x_test[:, s] <= rules[idx, s, 1]) * (x_test[:, s] > rules[idx, s, 0])\n",
    "                        for s in range(d)], axis=0).astype(bool)\n",
    "        \n",
    "        if  np.sum(x_in) == 0:\n",
    "            continue\n",
    "            \n",
    "        coverage = np.mean(x_in)\n",
    "        accuracy = np.mean(predict(x_test[x_in]) == y_rules[idx].reshape(1, -1))\n",
    "        \n",
    "        coverages.append(coverage)\n",
    "        accuracies.append(accuracy)\n",
    "        supports.append(len(s_star[idx]))\n",
    "        \n",
    "    return coverages, accuracies, supports, rules"
   ]
  },
  {
   "cell_type": "code",
   "execution_count": 4,
   "id": "4216d568",
   "metadata": {},
   "outputs": [
    {
     "name": "stderr",
     "output_type": "stream",
     "text": [
      "100%|███████████████████████████████████████| 1000/1000 [00:30<00:00, 33.20it/s]\n"
     ]
    }
   ],
   "source": [
    "coverages_sr, accuracies_sr, supports_sr, rules_sr = get_sr_results(results.x_test, results.rules, results.x_rules, results.y_rules,\n",
    "                                                                        results.S_star_se, results.acv_explainer.predict)"
   ]
  },
  {
   "cell_type": "code",
   "execution_count": 5,
   "id": "1fc73090",
   "metadata": {},
   "outputs": [
    {
     "name": "stdout",
     "output_type": "stream",
     "text": [
      "SR: Coverage = 0.0978160453808752 - Accuracy = 0.8841875558276483 - Support = 1.197\n"
     ]
    }
   ],
   "source": [
    "N = results.rules.shape[0]\n",
    "print('SR: Coverage = {} - Accuracy = {} - Support = {}'.format(np.sum(coverages_sr)/N, np.sum(accuracies_sr)/N, \n",
    "                                                            np.sum(supports_sr)/N))\n"
   ]
  },
  {
   "cell_type": "code",
   "execution_count": 6,
   "id": "fd6e070c",
   "metadata": {},
   "outputs": [
    {
     "name": "stdout",
     "output_type": "stream",
     "text": [
      "SR STD: Coverage = 0.009508372835007087 - Accuracy = 0.006859742682990483 - Support = 0.30915539818686855\n"
     ]
    }
   ],
   "source": [
    "print('SR STD: Coverage = {} - Accuracy = {} - Support = {}'.format(np.var(coverages_sr), np.var(accuracies_sr), \n",
    "                                                            np.var(supports_sr)))\n"
   ]
  },
  {
   "cell_type": "code",
   "execution_count": 7,
   "id": "54cfdd82",
   "metadata": {},
   "outputs": [],
   "source": [
    "from anchor import utils\n",
    "from anchor import anchor_tabular"
   ]
  },
  {
   "cell_type": "code",
   "execution_count": 8,
   "id": "997f24ba",
   "metadata": {},
   "outputs": [],
   "source": [
    "explainer = anchor_tabular.AnchorTabularExplainer(\n",
    "    D.target_labels,\n",
    "    D.feature_names,\n",
    "    results.x_train\n",
    "    )"
   ]
  },
  {
   "cell_type": "code",
   "execution_count": 9,
   "id": "ab7173ed",
   "metadata": {},
   "outputs": [],
   "source": [
    "def get_anchor_results(explainer, x_test, x_train, predict, pi, columns_id):\n",
    "    N = x_train.shape[0]\n",
    "    d = x_train.shape[1]\n",
    "    rules = np.ones(shape=(N, d, 2))\n",
    "    rules[:, :, 0] = -1e+10\n",
    "    rules[:, :, 1] = 1e+10\n",
    "    \n",
    "    coverages = []\n",
    "    accuracies = []\n",
    "    supports = []\n",
    "    for idx in tqdm(range(N)):\n",
    "        exp = explainer.explain_instance(x_train[idx], predict, threshold=pi)\n",
    "        for r in exp.names():\n",
    "            r_split = r.split()\n",
    "            \n",
    "            if len(r_split) == 3:\n",
    "                col_id = columns_id[r_split[0]]\n",
    "                if r_split[1] == '<' or r_split[1] == '<=':\n",
    "                    rules[idx, col_id, 1] = r_split[2]\n",
    "                elif r_split[1] == '>' or r_split[1] == '>=':\n",
    "                    rules[idx, col_id, 0] = r_split[2]\n",
    "                else:\n",
    "                    raise ValueError\n",
    "            elif len(r_split) == 5:\n",
    "                col_id = columns_id[r_split[2]]\n",
    "                rules[idx, col_id, 0] = r_split[0]\n",
    "                rules[idx, col_id, 0] = r_split[-1]\n",
    "            else:\n",
    "                raise ValueError\n",
    "\n",
    "        x_train_in = np.prod([(x_train[:, s] <= rules[idx, s, 1]) * (x_train[:, s] > rules[idx, s, 0])\n",
    "                        for s in range(d)], axis=0).astype(bool)\n",
    "        x_in = np.prod([(x_test[:, s] <= rules[idx, s, 1]) * (x_test[:, s] > rules[idx, s, 0])\n",
    "                        for s in range(d)], axis=0).astype(bool)\n",
    "        \n",
    "        if np.sum(x_train_in) * np.sum(x_in) == 0:\n",
    "            continue\n",
    "        \n",
    "        coverage = np.mean(x_in)\n",
    "        accuracy = np.mean(predict(x_test[x_in]) == predict(x_train[idx].reshape(1, -1)))\n",
    "        \n",
    "        coverages.append(coverage)\n",
    "        accuracies.append(accuracy)\n",
    "        supports.append(len(exp.names()))\n",
    "        \n",
    "    return coverages, accuracies, supports, rules\n",
    "\n",
    "        "
   ]
  },
  {
   "cell_type": "code",
   "execution_count": 10,
   "id": "99b4120b",
   "metadata": {},
   "outputs": [
    {
     "name": "stderr",
     "output_type": "stream",
     "text": [
      "100%|█████████████████████████████████████| 1000/1000 [1:13:43<00:00,  4.42s/it]\n"
     ]
    }
   ],
   "source": [
    "coverages, accuracies, supports, rules = get_anchor_results(explainer, results.x_test, results.x_rules, \n",
    "                                                            results.acv_explainer.predict, pi=0.9, columns_id=columns_id)"
   ]
  },
  {
   "cell_type": "code",
   "execution_count": 11,
   "id": "4905e1a8",
   "metadata": {},
   "outputs": [
    {
     "name": "stdout",
     "output_type": "stream",
     "text": [
      "ANCHORS: Coverage = 0.1846170988654781 - Accuracy = 0.9861354243996887 - Support = 2.033\n"
     ]
    }
   ],
   "source": [
    "print('ANCHORS: Coverage = {} - Accuracy = {} - Support = {}'.format(np.sum(coverages)/N, np.sum(accuracies)/N, \n",
    "                                                            np.sum(supports)/N))\n"
   ]
  },
  {
   "cell_type": "code",
   "execution_count": 12,
   "id": "b13ed9c4",
   "metadata": {},
   "outputs": [
    {
     "name": "stdout",
     "output_type": "stream",
     "text": [
      "ANCHORS STD: Coverage = 0.008564111678922952 - Accuracy = 0.0005309471906968292 - Support = 0.6439109999999999\n"
     ]
    }
   ],
   "source": [
    "print('ANCHORS STD: Coverage = {} - Accuracy = {} - Support = {}'.format(np.var(coverages), np.var(accuracies), \n",
    "                                                            np.var(supports)))\n"
   ]
  },
  {
   "cell_type": "code",
   "execution_count": 13,
   "id": "cda978a6",
   "metadata": {},
   "outputs": [
    {
     "data": {
      "text/plain": [
       "<AxesSubplot:ylabel='count'>"
      ]
     },
     "execution_count": 13,
     "metadata": {},
     "output_type": "execute_result"
    },
    {
     "data": {
      "image/png": "[encoded data removed]",
      "text/plain": [
       "<Figure size 1440x720 with 2 Axes>"
      ]
     },
     "metadata": {
      "needs_background": "light"
     },
     "output_type": "display_data"
    }
   ],
   "source": [
    "fig, ax = plt.subplots(1, 2, figsize=(20, 10))\n",
    "sns.countplot(ax = ax[0], x=supports)\n",
    "sns.countplot(ax = ax[1], x=supports_sr)"
   ]
  },
  {
   "cell_type": "code",
   "execution_count": 14,
   "id": "c7b791e0",
   "metadata": {},
   "outputs": [],
   "source": [
    "unique, count = np.unique(supports, return_counts=True)\n",
    "unique_sr, count_sr = np.unique(supports_sr, return_counts=True)"
   ]
  },
  {
   "cell_type": "code",
   "execution_count": 15,
   "id": "c7ce97b6",
   "metadata": {},
   "outputs": [],
   "source": [
    "count_support = dict(zip(unique, count))\n",
    "count_support_sr = dict(zip(unique_sr, count_sr))"
   ]
  },
  {
   "cell_type": "code",
   "execution_count": 16,
   "id": "d24e3c8d",
   "metadata": {},
   "outputs": [
    {
     "data": {
      "text/plain": [
       "{1: 274, 2: 451, 3: 243, 4: 32}"
      ]
     },
     "execution_count": 16,
     "metadata": {},
     "output_type": "execute_result"
    }
   ],
   "source": [
    "count_support"
   ]
  },
  {
   "cell_type": "code",
   "execution_count": 17,
   "id": "4bb978ba",
   "metadata": {},
   "outputs": [
    {
     "data": {
      "text/plain": [
       "{1: 650, 2: 222, 3: 29, 4: 4}"
      ]
     },
     "execution_count": 17,
     "metadata": {},
     "output_type": "execute_result"
    }
   ],
   "source": [
    "count_support_sr"
   ]
  }
 ],
 "metadata": {
  "kernelspec": {
   "display_name": "Python 3 (ipykernel)",
   "language": "python",
   "name": "python3"
  },
  "language_info": {
   "codemirror_mode": {
    "name": "ipython",
    "version": 3
   },
   "file_extension": ".py",
   "mimetype": "text/x-python",
   "name": "python",
   "nbconvert_exporter": "python",
   "pygments_lexer": "ipython3",
   "version": "3.8.13"
  }
 },
 "nbformat": 4,
 "nbformat_minor": 5
}
