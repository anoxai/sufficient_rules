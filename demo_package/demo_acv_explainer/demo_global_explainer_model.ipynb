{
 "cells": [
  {
   "cell_type": "code",
   "execution_count": 1,
   "id": "tribal-browser",
   "metadata": {},
   "outputs": [],
   "source": [
    "import pandas as pd\n",
    "import numpy as np\n",
    "\n",
    "from sklearn.datasets import load_breast_cancer\n",
    "from sklearn.model_selection import train_test_split"
   ]
  },
  {
   "cell_type": "code",
   "execution_count": 15,
   "id": "german-crime",
   "metadata": {},
   "outputs": [],
   "source": [
    "seed = 2022\n",
    "X = pd.read_csv('data/lucas0_train.csv')\n",
    "y = X.Lung_cancer.values\n",
    "X.drop(['Lung_cancer'], axis=1, inplace=True)\n",
    "# X, y = load_breast_cancer(return_X_y=True, as_frame=True)\n",
    "X_train, X_test, y_train, y_test = train_test_split(X, y, test_size=0.20, random_state=seed)"
   ]
  },
  {
   "cell_type": "code",
   "execution_count": 16,
   "id": "invisible-dancing",
   "metadata": {},
   "outputs": [
    {
     "data": {
      "text/html": [
       "<div>\n",
       "<style scoped>\n",
       "    .dataframe tbody tr th:only-of-type {\n",
       "        vertical-align: middle;\n",
       "    }\n",
       "\n",
       "    .dataframe tbody tr th {\n",
       "        vertical-align: top;\n",
       "    }\n",
       "\n",
       "    .dataframe thead th {\n",
       "        text-align: right;\n",
       "    }\n",
       "</style>\n",
       "<table border=\"1\" class=\"dataframe\">\n",
       "  <thead>\n",
       "    <tr style=\"text-align: right;\">\n",
       "      <th></th>\n",
       "      <th>Smoking</th>\n",
       "      <th>Yellow_Fingers</th>\n",
       "      <th>Anxiety</th>\n",
       "      <th>Peer_Pressure</th>\n",
       "      <th>Genetics</th>\n",
       "      <th>Attention_Disorder</th>\n",
       "      <th>Born_an_Even_Day</th>\n",
       "      <th>Car_Accident</th>\n",
       "      <th>Fatigue</th>\n",
       "      <th>Allergy</th>\n",
       "      <th>Coughing</th>\n",
       "    </tr>\n",
       "  </thead>\n",
       "  <tbody>\n",
       "    <tr>\n",
       "      <th>0</th>\n",
       "      <td>0</td>\n",
       "      <td>0</td>\n",
       "      <td>1</td>\n",
       "      <td>0</td>\n",
       "      <td>0</td>\n",
       "      <td>1</td>\n",
       "      <td>0</td>\n",
       "      <td>1</td>\n",
       "      <td>0</td>\n",
       "      <td>1</td>\n",
       "      <td>0</td>\n",
       "    </tr>\n",
       "    <tr>\n",
       "      <th>1</th>\n",
       "      <td>0</td>\n",
       "      <td>1</td>\n",
       "      <td>0</td>\n",
       "      <td>0</td>\n",
       "      <td>0</td>\n",
       "      <td>0</td>\n",
       "      <td>1</td>\n",
       "      <td>0</td>\n",
       "      <td>1</td>\n",
       "      <td>0</td>\n",
       "      <td>1</td>\n",
       "    </tr>\n",
       "    <tr>\n",
       "      <th>2</th>\n",
       "      <td>1</td>\n",
       "      <td>1</td>\n",
       "      <td>1</td>\n",
       "      <td>0</td>\n",
       "      <td>1</td>\n",
       "      <td>1</td>\n",
       "      <td>1</td>\n",
       "      <td>1</td>\n",
       "      <td>1</td>\n",
       "      <td>1</td>\n",
       "      <td>1</td>\n",
       "    </tr>\n",
       "    <tr>\n",
       "      <th>3</th>\n",
       "      <td>0</td>\n",
       "      <td>0</td>\n",
       "      <td>0</td>\n",
       "      <td>1</td>\n",
       "      <td>0</td>\n",
       "      <td>0</td>\n",
       "      <td>1</td>\n",
       "      <td>0</td>\n",
       "      <td>0</td>\n",
       "      <td>0</td>\n",
       "      <td>0</td>\n",
       "    </tr>\n",
       "    <tr>\n",
       "      <th>4</th>\n",
       "      <td>1</td>\n",
       "      <td>1</td>\n",
       "      <td>1</td>\n",
       "      <td>0</td>\n",
       "      <td>0</td>\n",
       "      <td>1</td>\n",
       "      <td>1</td>\n",
       "      <td>1</td>\n",
       "      <td>1</td>\n",
       "      <td>0</td>\n",
       "      <td>0</td>\n",
       "    </tr>\n",
       "  </tbody>\n",
       "</table>\n",
       "</div>"
      ],
      "text/plain": [
       "   Smoking  Yellow_Fingers  Anxiety  Peer_Pressure  Genetics  \\\n",
       "0        0               0        1              0         0   \n",
       "1        0               1        0              0         0   \n",
       "2        1               1        1              0         1   \n",
       "3        0               0        0              1         0   \n",
       "4        1               1        1              0         0   \n",
       "\n",
       "   Attention_Disorder  Born_an_Even_Day  Car_Accident  Fatigue  Allergy  \\\n",
       "0                   1                 0             1        0        1   \n",
       "1                   0                 1             0        1        0   \n",
       "2                   1                 1             1        1        1   \n",
       "3                   0                 1             0        0        0   \n",
       "4                   1                 1             1        1        0   \n",
       "\n",
       "   Coughing  \n",
       "0         0  \n",
       "1         1  \n",
       "2         1  \n",
       "3         0  \n",
       "4         0  "
      ]
     },
     "execution_count": 16,
     "metadata": {},
     "output_type": "execute_result"
    }
   ],
   "source": [
    "X.head()"
   ]
  },
  {
   "cell_type": "code",
   "execution_count": 17,
   "id": "conventional-response",
   "metadata": {},
   "outputs": [
    {
     "data": {
      "text/plain": [
       "(1600, 11)"
      ]
     },
     "execution_count": 17,
     "metadata": {},
     "output_type": "execute_result"
    }
   ],
   "source": [
    "X_train.shape"
   ]
  },
  {
   "cell_type": "markdown",
   "id": "04c7e796",
   "metadata": {},
   "source": [
    "# Fit Global Sufficient Rules"
   ]
  },
  {
   "cell_type": "code",
   "execution_count": 38,
   "id": "sustainable-giant",
   "metadata": {},
   "outputs": [],
   "source": [
    "from acv_explainers import ACXplainer\n",
    "from sklearn.metrics import roc_auc_score, accuracy_score\n",
    "\n",
    "# It has the same params as a Random Forest, and it should be tuned to maximize the performance.  \n",
    "acv_xplainer = ACXplainer(classifier=True, n_estimators=50, max_depth=6, mtry=X.shape[1])\n",
    "acv_xplainer.fit(X_train, y_train)"
   ]
  },
  {
   "cell_type": "code",
   "execution_count": 39,
   "id": "concerned-contact",
   "metadata": {},
   "outputs": [
    {
     "data": {
      "text/plain": [
       "0.9078624787286205"
      ]
     },
     "execution_count": 39,
     "metadata": {},
     "output_type": "execute_result"
    }
   ],
   "source": [
    "roc_auc_score(y_test, acv_xplainer.predict_proba(X_test)[:, 1])"
   ]
  },
  {
   "cell_type": "markdown",
   "id": "addressed-tradition",
   "metadata": {},
   "source": [
    "### 1- Compute Sufficient Explanations"
   ]
  },
  {
   "cell_type": "code",
   "execution_count": 40,
   "id": "political-google",
   "metadata": {},
   "outputs": [
    {
     "name": "stderr",
     "output_type": "stream",
     "text": [
      "100%|██████████████████████████████████████████| 50/50 [00:00<00:00, 253.92it/s]\n",
      "100%|████████████████████████████████████████| 10/10 [1:09:54<00:00, 419.45s/it]\n"
     ]
    }
   ],
   "source": [
    "sdp_importance, sdp_index, size, sdp = acv_xplainer.importance_ddp_rf(X_train, y_train.astype(np.double),\n",
    "                                                                      X_train, y_train.astype(np.double), stop=False, \n",
    "                                                                      pi_level=0.9)"
   ]
  },
  {
   "cell_type": "code",
   "execution_count": 52,
   "id": "75fdc7b6",
   "metadata": {},
   "outputs": [
    {
     "data": {
      "text/plain": [
       "2"
      ]
     },
     "execution_count": 52,
     "metadata": {},
     "output_type": "execute_result"
    }
   ],
   "source": [
    "np.argmax(sdp >= 0.90)"
   ]
  },
  {
   "cell_type": "code",
   "execution_count": 64,
   "id": "63c19ce1",
   "metadata": {},
   "outputs": [
    {
     "name": "stdout",
     "output_type": "stream",
     "text": [
      "['Coughing', 'Genetics', 'Fatigue', 'Anxiety']\n",
      "['Coughing', 'Fatigue']\n",
      "['Fatigue', 'Car_Accident', 'Peer_Pressure']\n",
      "['Coughing', 'Smoking', 'Allergy', 'Genetics', 'Anxiety']\n",
      "['Allergy', 'Fatigue']\n",
      "['Coughing', 'Allergy', 'Anxiety', 'Peer_Pressure']\n",
      "['Coughing', 'Genetics']\n",
      "['Allergy']\n",
      "['Allergy']\n",
      "['Coughing', 'Allergy']\n",
      "['Coughing']\n",
      "['Coughing']\n",
      "['Coughing', 'Smoking', 'Genetics', 'Anxiety', 'Attention_Disorder']\n",
      "['Allergy', 'Fatigue', 'Car_Accident']\n",
      "['Allergy']\n",
      "['Attention_Disorder']\n",
      "['Allergy', 'Genetics', 'Fatigue', 'Car_Accident', 'Born_an_Even_Day', 'Attention_Disorder', 'Peer_Pressure']\n",
      "['Born_an_Even_Day']\n",
      "['Fatigue']\n",
      "['Coughing', 'Genetics', 'Fatigue', 'Anxiety', 'Born_an_Even_Day']\n",
      "['Genetics']\n",
      "['Coughing', 'Allergy', 'Genetics', 'Anxiety']\n",
      "['Allergy']\n",
      "['Coughing']\n",
      "['Allergy']\n",
      "['Allergy', 'Fatigue']\n",
      "['Allergy']\n",
      "['Car_Accident']\n",
      "['Coughing', 'Genetics', 'Fatigue', 'Anxiety', 'Born_an_Even_Day']\n",
      "['Allergy']\n",
      "['Smoking', 'Allergy', 'Anxiety']\n",
      "['Allergy', 'Fatigue']\n",
      "['Smoking', 'Genetics', 'Anxiety', 'Born_an_Even_Day', 'Peer_Pressure']\n",
      "['Smoking', 'Allergy']\n",
      "['Allergy']\n",
      "['Coughing', 'Smoking', 'Genetics', 'Anxiety', 'Car_Accident', 'Attention_Disorder']\n",
      "['Allergy', 'Fatigue', 'Car_Accident', 'Attention_Disorder', 'Peer_Pressure']\n",
      "['Coughing', 'Allergy', 'Genetics', 'Fatigue', 'Born_an_Even_Day', 'Attention_Disorder']\n",
      "['Coughing']\n",
      "['Coughing', 'Smoking', 'Allergy', 'Genetics', 'Anxiety']\n",
      "['Allergy', 'Fatigue']\n",
      "['Smoking', 'Allergy']\n",
      "['Allergy', 'Fatigue', 'Anxiety', 'Car_Accident', 'Peer_Pressure']\n",
      "['Fatigue']\n",
      "['Coughing', 'Genetics']\n",
      "['Coughing', 'Genetics', 'Fatigue', 'Attention_Disorder']\n",
      "['Coughing', 'Allergy', 'Genetics', 'Fatigue', 'Car_Accident', 'Peer_Pressure']\n",
      "['Smoking', 'Allergy', 'Genetics', 'Fatigue', 'Attention_Disorder', 'Peer_Pressure']\n",
      "['Fatigue', 'Car_Accident']\n",
      "['Coughing']\n",
      "['Car_Accident', 'Attention_Disorder']\n",
      "['Allergy']\n",
      "['Coughing']\n",
      "['Coughing', 'Genetics', 'Fatigue', 'Peer_Pressure']\n",
      "['Allergy']\n",
      "['Smoking', 'Genetics', 'Fatigue', 'Anxiety']\n",
      "['Coughing', 'Car_Accident']\n",
      "['Smoking', 'Allergy', 'Born_an_Even_Day']\n",
      "['Coughing', 'Peer_Pressure']\n",
      "['Coughing', 'Smoking', 'Genetics', 'Anxiety']\n",
      "['Fatigue', 'Car_Accident', 'Born_an_Even_Day']\n",
      "['Allergy']\n",
      "['Allergy']\n",
      "['Allergy', 'Fatigue']\n",
      "['Allergy']\n",
      "['Coughing', 'Allergy', 'Genetics']\n",
      "['Coughing', 'Allergy', 'Genetics']\n",
      "['Genetics']\n",
      "['Allergy']\n",
      "['Coughing', 'Genetics', 'Fatigue', 'Peer_Pressure']\n",
      "['Smoking']\n",
      "['Fatigue', 'Attention_Disorder']\n",
      "['Fatigue', 'Car_Accident']\n",
      "['Fatigue', 'Car_Accident', 'Peer_Pressure']\n",
      "['Coughing']\n",
      "['Allergy']\n",
      "['Coughing', 'Allergy', 'Genetics', 'Fatigue', 'Car_Accident', 'Peer_Pressure']\n",
      "['Fatigue', 'Car_Accident', 'Peer_Pressure']\n",
      "['Coughing', 'Genetics', 'Anxiety', 'Born_an_Even_Day', 'Attention_Disorder', 'Peer_Pressure']\n",
      "['Coughing', 'Allergy', 'Born_an_Even_Day', 'Attention_Disorder', 'Peer_Pressure']\n",
      "['Coughing', 'Genetics']\n",
      "['Genetics']\n",
      "['Genetics', 'Car_Accident']\n",
      "['Fatigue']\n",
      "['Allergy', 'Fatigue']\n",
      "['Peer_Pressure']\n",
      "['Smoking', 'Allergy', 'Genetics']\n",
      "['Coughing', 'Anxiety']\n",
      "['Coughing', 'Allergy']\n",
      "['Coughing']\n",
      "['Allergy']\n",
      "['Coughing', 'Smoking', 'Genetics', 'Car_Accident']\n",
      "['Coughing']\n",
      "['Coughing', 'Smoking', 'Genetics', 'Anxiety', 'Attention_Disorder']\n",
      "['Coughing']\n",
      "['Coughing', 'Genetics']\n",
      "['Smoking', 'Allergy', 'Born_an_Even_Day']\n",
      "['Coughing', 'Genetics', 'Fatigue', 'Peer_Pressure']\n",
      "['Attention_Disorder']\n",
      "['Allergy']\n",
      "['Coughing', 'Genetics', 'Fatigue', 'Attention_Disorder']\n",
      "['Coughing']\n",
      "['Coughing', 'Allergy', 'Genetics']\n",
      "['Coughing']\n",
      "['Coughing', 'Allergy', 'Genetics', 'Anxiety']\n",
      "['Allergy', 'Fatigue', 'Car_Accident', 'Attention_Disorder', 'Peer_Pressure']\n",
      "['Coughing', 'Genetics', 'Fatigue', 'Peer_Pressure']\n",
      "['Allergy']\n",
      "['Coughing', 'Genetics', 'Fatigue', 'Anxiety']\n",
      "['Allergy']\n",
      "['Coughing']\n",
      "['Smoking']\n",
      "['Smoking', 'Allergy', 'Genetics']\n",
      "['Coughing', 'Allergy', 'Genetics', 'Fatigue', 'Born_an_Even_Day', 'Attention_Disorder']\n",
      "['Allergy', 'Genetics', 'Fatigue', 'Anxiety', 'Car_Accident', 'Born_an_Even_Day']\n",
      "['Smoking', 'Genetics', 'Fatigue', 'Anxiety', 'Car_Accident', 'Peer_Pressure']\n",
      "['Allergy', 'Fatigue', 'Anxiety', 'Car_Accident', 'Peer_Pressure']\n",
      "['Allergy']\n",
      "['Coughing']\n",
      "['Allergy']\n",
      "['Coughing', 'Genetics']\n",
      "['Allergy']\n",
      "['Smoking', 'Genetics', 'Anxiety']\n",
      "['Coughing', 'Car_Accident', 'Born_an_Even_Day']\n",
      "['Allergy']\n",
      "['Coughing', 'Smoking', 'Genetics', 'Anxiety', 'Attention_Disorder']\n",
      "['Smoking', 'Allergy', 'Genetics', 'Fatigue', 'Attention_Disorder', 'Peer_Pressure']\n",
      "['Smoking', 'Allergy', 'Fatigue', 'Born_an_Even_Day']\n",
      "['Allergy']\n",
      "['Coughing', 'Genetics', 'Fatigue', 'Attention_Disorder']\n",
      "['Coughing', 'Allergy', 'Genetics']\n",
      "['Coughing']\n",
      "['Coughing', 'Genetics', 'Fatigue', 'Attention_Disorder', 'Peer_Pressure']\n",
      "['Allergy', 'Fatigue']\n",
      "['Genetics']\n",
      "['Allergy', 'Fatigue']\n",
      "['Fatigue', 'Car_Accident']\n",
      "['Coughing']\n",
      "['Anxiety']\n",
      "['Allergy']\n",
      "['Coughing']\n",
      "['Coughing', 'Allergy', 'Genetics']\n",
      "['Smoking', 'Allergy', 'Born_an_Even_Day']\n",
      "['Born_an_Even_Day']\n",
      "['Coughing', 'Allergy', 'Genetics', 'Anxiety']\n",
      "['Coughing']\n",
      "['Coughing', 'Genetics', 'Fatigue', 'Car_Accident', 'Attention_Disorder']\n",
      "['Allergy']\n",
      "['Allergy']\n",
      "['Coughing', 'Smoking', 'Genetics', 'Anxiety', 'Car_Accident', 'Attention_Disorder']\n",
      "['Fatigue', 'Anxiety', 'Car_Accident', 'Peer_Pressure']\n",
      "['Coughing', 'Genetics', 'Fatigue', 'Peer_Pressure']\n",
      "['Coughing']\n",
      "['Smoking', 'Allergy', 'Genetics']\n",
      "['Coughing', 'Anxiety', 'Car_Accident', 'Born_an_Even_Day']\n",
      "['Allergy', 'Fatigue', 'Car_Accident']\n",
      "['Anxiety']\n",
      "['Coughing', 'Allergy', 'Genetics']\n",
      "['Coughing', 'Genetics', 'Fatigue', 'Peer_Pressure']\n",
      "['Coughing', 'Allergy']\n",
      "['Peer_Pressure']\n",
      "['Allergy']\n",
      "['Smoking', 'Genetics', 'Anxiety', 'Born_an_Even_Day', 'Peer_Pressure']\n",
      "['Coughing', 'Smoking', 'Genetics', 'Anxiety', 'Attention_Disorder']\n",
      "['Coughing', 'Smoking', 'Genetics', 'Anxiety', 'Car_Accident', 'Attention_Disorder']\n",
      "['Genetics']\n",
      "['Coughing', 'Allergy', 'Genetics', 'Fatigue', 'Anxiety']\n",
      "['Car_Accident', 'Attention_Disorder']\n",
      "['Allergy']\n",
      "['Smoking', 'Anxiety', 'Born_an_Even_Day']\n",
      "['Coughing']\n",
      "['Coughing', 'Smoking', 'Genetics', 'Anxiety']\n",
      "['Coughing', 'Allergy', 'Genetics', 'Anxiety']\n",
      "['Fatigue']\n",
      "['Coughing']\n",
      "['Coughing', 'Genetics']\n",
      "['Allergy', 'Fatigue']\n",
      "['Coughing']\n"
     ]
    }
   ],
   "source": [
    "for i in range(sdp.shape[0]):\n",
    "    if sdp[i]>=0.9:\n",
    "        print(list(X_train.columns[sdp_index[i, :size[i]]]))"
   ]
  },
  {
   "cell_type": "code",
   "execution_count": 53,
   "id": "ac6b1915",
   "metadata": {},
   "outputs": [
    {
     "data": {
      "text/plain": [
       "0.9029749696055255"
      ]
     },
     "execution_count": 53,
     "metadata": {},
     "output_type": "execute_result"
    }
   ],
   "source": [
    "sdp[2]"
   ]
  },
  {
   "cell_type": "code",
   "execution_count": 54,
   "id": "2d110c49",
   "metadata": {},
   "outputs": [
    {
     "data": {
      "text/plain": [
       "array([10,  4,  8,  2, -1, -1, -1, -1, -1, -1, -1])"
      ]
     },
     "execution_count": 54,
     "metadata": {},
     "output_type": "execute_result"
    }
   ],
   "source": [
    "sdp_index[2]"
   ]
  },
  {
   "cell_type": "code",
   "execution_count": 55,
   "id": "512b97ad",
   "metadata": {},
   "outputs": [
    {
     "data": {
      "text/plain": [
       "[10, 4, 8, 2]"
      ]
     },
     "execution_count": 55,
     "metadata": {},
     "output_type": "execute_result"
    }
   ],
   "source": [
    "S_star[2]"
   ]
  },
  {
   "cell_type": "code",
   "execution_count": 62,
   "id": "1c84a118",
   "metadata": {},
   "outputs": [
    {
     "name": "stdout",
     "output_type": "stream",
     "text": [
      "['Yellow_Fingers', 'Anxiety', 'Peer_Pressure']\n",
      "['Yellow_Fingers', 'Anxiety', 'Peer_Pressure']\n",
      "['Yellow_Fingers', 'Anxiety', 'Peer_Pressure']\n",
      "['Yellow_Fingers', 'Anxiety', 'Peer_Pressure']\n"
     ]
    }
   ],
   "source": [
    "for a in S_star[2]:\n",
    "    print(list(X_train.columns[[1, 2, 3]]))"
   ]
  },
  {
   "cell_type": "code",
   "execution_count": 50,
   "id": "d6765090",
   "metadata": {},
   "outputs": [
    {
     "data": {
      "text/plain": [
       "'Genetics'"
      ]
     },
     "execution_count": 50,
     "metadata": {},
     "output_type": "execute_result"
    }
   ],
   "source": [
    "X_train.columns[4]"
   ]
  },
  {
   "cell_type": "code",
   "execution_count": 48,
   "id": "df519a7e",
   "metadata": {},
   "outputs": [],
   "source": [
    "from acv_explainers.utils import get_active_null_coalition_list\n",
    "\n",
    "S_star, N_star = get_active_null_coalition_list(sdp_index, size)"
   ]
  },
  {
   "cell_type": "code",
   "execution_count": null,
   "id": "b68f8293",
   "metadata": {},
   "outputs": [],
   "source": []
  },
  {
   "cell_type": "markdown",
   "id": "88d27009",
   "metadata": {},
   "source": [
    "### 2- Compute Sufficient Rules"
   ]
  },
  {
   "cell_type": "code",
   "execution_count": 9,
   "id": "b114e94b",
   "metadata": {},
   "outputs": [
    {
     "name": "stderr",
     "output_type": "stream",
     "text": [
      "100%|█████████████████████████████████████████| 455/455 [00:33<00:00, 13.69it/s]\n"
     ]
    }
   ],
   "source": [
    "sdp, rules, sdp_all, rules_data, w = acv_xplainer.compute_sdp_maxrules(X_train, y_train.astype(np.double),\n",
    "                                                         X_train, y_train.astype(np.double), S_star, verbose=True)"
   ]
  },
  {
   "cell_type": "markdown",
   "id": "7ea0fc97",
   "metadata": {},
   "source": [
    "### 3- Compute Global Sufficient Rules (G-SR)"
   ]
  },
  {
   "cell_type": "code",
   "execution_count": 10,
   "id": "01799a11",
   "metadata": {},
   "outputs": [],
   "source": [
    "acv_xplainer.fit_global_rules(X_train, y_train, rules, S_star)"
   ]
  },
  {
   "cell_type": "markdown",
   "id": "inner-acrylic",
   "metadata": {},
   "source": [
    "#### Rules stats"
   ]
  },
  {
   "cell_type": "markdown",
   "id": "tracked-apple",
   "metadata": {},
   "source": [
    "- Number of rules"
   ]
  },
  {
   "cell_type": "code",
   "execution_count": 11,
   "id": "scenic-livestock",
   "metadata": {},
   "outputs": [
    {
     "data": {
      "text/plain": [
       "(93, 30, 2)"
      ]
     },
     "execution_count": 11,
     "metadata": {},
     "output_type": "execute_result"
    }
   ],
   "source": [
    "acv_xplainer.rules.shape"
   ]
  },
  {
   "cell_type": "markdown",
   "id": "hindu-agency",
   "metadata": {},
   "source": [
    "- Rules accuracy"
   ]
  },
  {
   "cell_type": "code",
   "execution_count": 12,
   "id": "female-vocabulary",
   "metadata": {},
   "outputs": [
    {
     "name": "stdout",
     "output_type": "stream",
     "text": [
      "[1.0, 0.9949494949494949, 0.9772727272727273, 1.0, 1.0, 1.0, 1.0, 1.0, 1.0, 1.0]\n"
     ]
    }
   ],
   "source": [
    "print(acv_xplainer.rules_acc[:10])"
   ]
  },
  {
   "cell_type": "markdown",
   "id": "violent-dollar",
   "metadata": {},
   "source": [
    "- Rules Coverage"
   ]
  },
  {
   "cell_type": "code",
   "execution_count": 13,
   "id": "average-scope",
   "metadata": {},
   "outputs": [
    {
     "name": "stdout",
     "output_type": "stream",
     "text": [
      "[0.12087912087912088, 0.4351648351648352, 0.0967032967032967, 0.006593406593406593, 0.002197802197802198, 0.004395604395604396, 0.2813186813186813, 0.14725274725274726, 0.07692307692307693, 0.3912087912087912]\n"
     ]
    }
   ],
   "source": [
    "print(acv_xplainer.rules_coverage[:10])"
   ]
  },
  {
   "cell_type": "markdown",
   "id": "spiritual-nursing",
   "metadata": {},
   "source": [
    "### Global model prediction "
   ]
  },
  {
   "cell_type": "code",
   "execution_count": 14,
   "id": "6c4bf784",
   "metadata": {},
   "outputs": [],
   "source": [
    "y_test_pred = acv_xplainer.predict_proba_global_rules(X_test.values, min_acc=0.9)"
   ]
  },
  {
   "cell_type": "markdown",
   "id": "b4767a90",
   "metadata": {},
   "source": [
    "### 4-  Compute the coverage and the precision of G-SR"
   ]
  },
  {
   "cell_type": "code",
   "execution_count": 15,
   "id": "4694656b",
   "metadata": {},
   "outputs": [
    {
     "name": "stdout",
     "output_type": "stream",
     "text": [
      "Accuracy = 0.9523809523809523 --- Test Coverage = 0.9210526315789473\n"
     ]
    }
   ],
   "source": [
    "y_o = []\n",
    "y_r = []\n",
    "for i, ya in enumerate(y_test_pred[0]):\n",
    "    if ya != None:\n",
    "        y_o.append(ya)\n",
    "        y_r.append(y_test.values[i])\n",
    "        \n",
    "y_o = np.array(y_o, dtype=int)\n",
    "\n",
    "print('Accuracy = {} --- Test Coverage = {}'.format(accuracy_score(y_r, y_o), len(y_r)/X_test.shape[0]))\n"
   ]
  },
  {
   "cell_type": "code",
   "execution_count": 19,
   "id": "satisfactory-preparation",
   "metadata": {},
   "outputs": [],
   "source": [
    "# # Test webApp\n",
    "\n",
    "# import acv_app\n",
    "# import os\n",
    "\n",
    "# # compile the ACXplainer\n",
    "# acv_app.compile_ACXplainers(acv_xplainer, X_train, y_train, X_test, y_test, path=os.getcwd())\n",
    "\n",
    "# # Launch the webApp\n",
    "# acv_app.run_webapp(pickle_path=os.getcwd())"
   ]
  },
  {
   "cell_type": "markdown",
   "id": "f31c5229",
   "metadata": {},
   "source": [
    "# Baseline models"
   ]
  },
  {
   "cell_type": "code",
   "execution_count": 19,
   "id": "complete-stock",
   "metadata": {},
   "outputs": [],
   "source": [
    "from imodels import BoostedRulesClassifier, BayesianRuleListClassifier, GreedyRuleListClassifier, SkopeRulesClassifier # see more models below\n",
    "from imodels import SLIMRegressor, RuleFitRegressor, RuleFitClassifier"
   ]
  },
  {
   "cell_type": "markdown",
   "id": "professional-exclusion",
   "metadata": {},
   "source": [
    "# Rule Fit"
   ]
  },
  {
   "cell_type": "code",
   "execution_count": 20,
   "id": "waiting-diamond",
   "metadata": {},
   "outputs": [
    {
     "data": {
      "text/plain": [
       "RuleFitClassifier()"
      ]
     },
     "execution_count": 20,
     "metadata": {},
     "output_type": "execute_result"
    }
   ],
   "source": [
    "rf = RuleFitClassifier()  # initialize a model\n",
    "rf.fit(X_train, y_train)  "
   ]
  },
  {
   "cell_type": "code",
   "execution_count": 21,
   "id": "artistic-aquarium",
   "metadata": {},
   "outputs": [
    {
     "data": {
      "text/plain": [
       "0.9473684210526315"
      ]
     },
     "execution_count": 21,
     "metadata": {},
     "output_type": "execute_result"
    }
   ],
   "source": [
    "accuracy_score(y_test, rf.predict(X_test))"
   ]
  },
  {
   "cell_type": "markdown",
   "id": "exotic-secondary",
   "metadata": {},
   "source": [
    "# Skoped Rule"
   ]
  },
  {
   "cell_type": "code",
   "execution_count": 26,
   "id": "rocky-quilt",
   "metadata": {},
   "outputs": [
    {
     "data": {
      "text/plain": [
       "0.9210526315789473"
      ]
     },
     "execution_count": 26,
     "metadata": {},
     "output_type": "execute_result"
    }
   ],
   "source": [
    "rf = SkopeRulesClassifier(n_estimators=100, precision_min=0.9)  # initialize a model\n",
    "rf.fit(X_train, y_train)  \n",
    "\n",
    "accuracy_score(y_test, rf.predict(X_test))"
   ]
  },
  {
   "cell_type": "markdown",
   "id": "annoying-premises",
   "metadata": {},
   "source": [
    "# Decision Tree"
   ]
  },
  {
   "cell_type": "code",
   "execution_count": 27,
   "id": "regulation-woman",
   "metadata": {},
   "outputs": [],
   "source": [
    "from sklearn.tree import DecisionTreeClassifier"
   ]
  },
  {
   "cell_type": "code",
   "execution_count": 28,
   "id": "cleared-coalition",
   "metadata": {},
   "outputs": [
    {
     "data": {
      "text/plain": [
       "0.9473684210526315"
      ]
     },
     "execution_count": 28,
     "metadata": {},
     "output_type": "execute_result"
    }
   ],
   "source": [
    "rf = DecisionTreeClassifier()  # initialize a model\n",
    "rf.fit(X_train, y_train)  \n",
    "\n",
    "accuracy_score(y_test, rf.predict(X_test))"
   ]
  },
  {
   "cell_type": "markdown",
   "id": "printable-confidentiality",
   "metadata": {},
   "source": [
    "# Random Forest"
   ]
  },
  {
   "cell_type": "code",
   "execution_count": 29,
   "id": "confused-architect",
   "metadata": {},
   "outputs": [],
   "source": [
    "from sklearn.ensemble import RandomForestClassifier"
   ]
  },
  {
   "cell_type": "code",
   "execution_count": 30,
   "id": "labeled-recruitment",
   "metadata": {},
   "outputs": [
    {
     "data": {
      "text/plain": [
       "0.9736842105263158"
      ]
     },
     "execution_count": 30,
     "metadata": {},
     "output_type": "execute_result"
    }
   ],
   "source": [
    "rf = RandomForestClassifier()  # initialize a model\n",
    "rf.fit(X_train, y_train)  \n",
    "\n",
    "accuracy_score(y_test, rf.predict(X_test))"
   ]
  },
  {
   "cell_type": "code",
   "execution_count": null,
   "id": "dada603f",
   "metadata": {},
   "outputs": [],
   "source": []
  }
 ],
 "metadata": {
  "kernelspec": {
   "display_name": "Python 3 (ipykernel)",
   "language": "python",
   "name": "python3"
  },
  "language_info": {
   "codemirror_mode": {
    "name": "ipython",
    "version": 3
   },
   "file_extension": ".py",
   "mimetype": "text/x-python",
   "name": "python",
   "nbconvert_exporter": "python",
   "pygments_lexer": "ipython3",
   "version": "3.9.7"
  }
 },
 "nbformat": 4,
 "nbformat_minor": 5
}
