{
 "cells": [
  {
   "cell_type": "markdown",
   "id": "comparable-festival",
   "metadata": {},
   "source": [
    "# ACXplainer DEMO"
   ]
  },
  {
   "cell_type": "code",
   "execution_count": 1,
   "id": "raising-mainstream",
   "metadata": {},
   "outputs": [],
   "source": [
    "import shap \n",
    "import sys\n",
    "from sklearn.model_selection import train_test_split\n",
    "from acv_explainers import *\n",
    "import numpy as np\n",
    "\n",
    "sys.setrecursionlimit(10000)"
   ]
  },
  {
   "cell_type": "code",
   "execution_count": 2,
   "id": "aa7c0422",
   "metadata": {},
   "outputs": [
    {
     "data": {
      "text/plain": [
       "'0.6.1'"
      ]
     },
     "execution_count": 2,
     "metadata": {},
     "output_type": "execute_result"
    }
   ],
   "source": [
    "import skranger\n",
    "skranger.__version__"
   ]
  },
  {
   "cell_type": "markdown",
   "id": "eight-digest",
   "metadata": {},
   "source": [
    "### Load data"
   ]
  },
  {
   "cell_type": "code",
   "execution_count": 2,
   "id": "impossible-flavor",
   "metadata": {},
   "outputs": [],
   "source": [
    "X,y = shap.datasets.adult()\n",
    "X_display,y_display = shap.datasets.adult(display=True)\n",
    "\n",
    "# create a train/test split\n",
    "X_train, X_test, y_train, y_test = train_test_split(X, y, test_size=0.75, random_state=7)"
   ]
  },
  {
   "cell_type": "code",
   "execution_count": 3,
   "id": "ahead-intro",
   "metadata": {},
   "outputs": [
    {
     "data": {
      "text/plain": [
       "(8140, 12)"
      ]
     },
     "execution_count": 3,
     "metadata": {},
     "output_type": "execute_result"
    }
   ],
   "source": [
    "X_train.shape"
   ]
  },
  {
   "cell_type": "markdown",
   "id": "eight-death",
   "metadata": {},
   "source": [
    "### Train Explainer (ACXplainer)"
   ]
  },
  {
   "cell_type": "code",
   "execution_count": 4,
   "id": "willing-stopping",
   "metadata": {},
   "outputs": [],
   "source": [
    "ac_explainer = ACXplainer(classifier=True, n_estimators=5, max_depth=2)\n",
    "ac_explainer.fit(X_train, y_train)"
   ]
  },
  {
   "cell_type": "code",
   "execution_count": 5,
   "id": "balanced-direction",
   "metadata": {},
   "outputs": [
    {
     "data": {
      "text/plain": [
       "array([False, False, False, ..., False,  True, False])"
      ]
     },
     "execution_count": 5,
     "metadata": {},
     "output_type": "execute_result"
    }
   ],
   "source": [
    "ac_explainer.predict(X_train)"
   ]
  },
  {
   "cell_type": "code",
   "execution_count": null,
   "id": "searching-renaissance",
   "metadata": {},
   "outputs": [],
   "source": []
  },
  {
   "cell_type": "code",
   "execution_count": 6,
   "id": "retained-gates",
   "metadata": {},
   "outputs": [
    {
     "data": {
      "text/plain": [
       "0.8642037047987893"
      ]
     },
     "execution_count": 6,
     "metadata": {},
     "output_type": "execute_result"
    }
   ],
   "source": [
    "from sklearn.metrics import roc_auc_score\n",
    "\n",
    "roc_auc_score(ac_explainer.predict(X_test), y_test)"
   ]
  },
  {
   "cell_type": "markdown",
   "id": "solar-pipeline",
   "metadata": {},
   "source": [
    "### Launch the webApp"
   ]
  },
  {
   "cell_type": "code",
   "execution_count": 7,
   "id": "naked-mailing",
   "metadata": {},
   "outputs": [],
   "source": [
    "# import acv_app\n",
    "# import os\n",
    "\n",
    "# # compile the ACXplainer\n",
    "# acv_app.compile_ACXplainers(ac_explainer, X_train, y_train, X_test, y_test, path=os.getcwd())\n",
    "\n",
    "# # Launch the webapp\n",
    "# acv_app.run_webapp(pickle_path=os.getcwd())"
   ]
  },
  {
   "cell_type": "markdown",
   "id": "ahead-franklin",
   "metadata": {},
   "source": [
    "### Compute the Minimal Sufficient Explanation"
   ]
  },
  {
   "cell_type": "code",
   "execution_count": 8,
   "id": "occasional-afghanistan",
   "metadata": {},
   "outputs": [
    {
     "name": "stderr",
     "output_type": "stream",
     "text": [
      "100%|██████████| 5/5 [00:00<00:00, 763.54it/s]\n",
      " 71%|███████▏  | 5/7 [00:02<00:00,  2.27it/s]\n"
     ]
    }
   ],
   "source": [
    "max_size = 10\n",
    "\n",
    "sdp_importance, sdp_index, size, sdp = ac_explainer.importance_sdp_rf(X_train.iloc[:max_size], y_train[:max_size].astype(np.double),\n",
    "                                                                     X_train, y_train.astype(np.double))"
   ]
  },
  {
   "cell_type": "code",
   "execution_count": 8,
   "id": "smooth-protection",
   "metadata": {},
   "outputs": [
    {
     "name": "stdout",
     "output_type": "stream",
     "text": [
      "The Minimal Sufficient Explanation of obs 0 is = [ 8  2  9  4 10] and its has a SDP = 0.8178302402579478\n"
     ]
    }
   ],
   "source": [
    "idx = np.random.randint(0, max_size)\n",
    "print('The Minimal Sufficient Explanation of obs {} is = {} and its has a SDP = {}'.format(idx, sdp_index[idx, :size[idx]], sdp[idx]))"
   ]
  },
  {
   "cell_type": "markdown",
   "id": "interesting-salem",
   "metadata": {},
   "source": [
    "### Compute the Sufficient Rules"
   ]
  },
  {
   "cell_type": "code",
   "execution_count": 9,
   "id": "rental-singer",
   "metadata": {},
   "outputs": [],
   "source": [
    "from acv_explainers.utils import get_active_null_coalition_list\n",
    "\n",
    "S_star, N_star = get_active_null_coalition_list(sdp_index, size)"
   ]
  },
  {
   "cell_type": "code",
   "execution_count": 10,
   "id": "absent-explosion",
   "metadata": {},
   "outputs": [
    {
     "name": "stderr",
     "output_type": "stream",
     "text": [
      "100%|██████████| 10/10 [01:28<00:00,  8.86s/it]\n"
     ]
    }
   ],
   "source": [
    "sdp, rules, sdp_all, rules_data, w = ac_explainer.compute_sdp_maxrules(X_train.iloc[:max_size], y_train[:max_size].astype(np.double),\n",
    "                                                         X_train, y_train.astype(np.double), S_star, verbose=True)"
   ]
  },
  {
   "cell_type": "markdown",
   "id": "serial-agreement",
   "metadata": {},
   "source": [
    "- Note that the rules for an observation is a rectangle of dimension (# Features x 2) i.e an interval for each variable. Below, we plot the rule only on the relevant axis, the remaining axis have no rule or in other word have a rule equals to $\\mathbb{R}$."
   ]
  },
  {
   "cell_type": "code",
   "execution_count": 11,
   "id": "stainless-chocolate",
   "metadata": {},
   "outputs": [
    {
     "name": "stdout",
     "output_type": "stream",
     "text": [
      "The Minimal Sufficient Rule of obs 0 is \n",
      " -inf <= Capital Gain <= 5095.5 and -inf <= Education-Num <= 12.5 and -inf <= Capital Loss <= 1793.5 and -inf <= Occupation <= 9.5 and -inf <= Hours per week <= inf\n"
     ]
    }
   ],
   "source": [
    "rule = rules[idx]\n",
    "S = S_star[idx]\n",
    "columns = [X_train.columns[i] for i in range(X_train.shape[1])]\n",
    "rule_string = ['{} <= {} <= {}'.format(rule[i, 0] if rule[i, 0] > -1e+10 else -np.inf, columns[i],\n",
    "                                               rule[i, 1] if rule[i, 1] < 1e+10 else +np.inf) for i in S]\n",
    "rule_string = ' and '.join(rule_string)\n",
    "\n",
    "print('The Minimal Sufficient Rule of obs {} is \\n {}'.format(idx, rule_string))"
   ]
  },
  {
   "cell_type": "markdown",
   "id": "sustainable-novelty",
   "metadata": {},
   "source": [
    "### Compute all the Sufficient Explanations"
   ]
  },
  {
   "cell_type": "code",
   "execution_count": 12,
   "id": "constant-filing",
   "metadata": {},
   "outputs": [
    {
     "name": "stderr",
     "output_type": "stream",
     "text": [
      "100%|██████████| 7/7 [00:02<00:00,  2.84it/s]\n"
     ]
    }
   ],
   "source": [
    "sufficient_expl, sdp_expl, sdp_global = ac_explainer.sufficient_expl_rf(X_train.iloc[:max_size], y_train[:max_size].astype(np.double),\n",
    "                                                                     X_train, y_train.astype(np.double), pi_level=0.8)"
   ]
  },
  {
   "cell_type": "code",
   "execution_count": 13,
   "id": "sharp-cooper",
   "metadata": {},
   "outputs": [
    {
     "name": "stdout",
     "output_type": "stream",
     "text": [
      "The set of All the Sufficient explanations of obs 0 is \n",
      " [[8, 2], [8, 9], [8, 4]]\n"
     ]
    }
   ],
   "source": [
    "print('The set of All the Sufficient explanations of obs {} is \\n {}'.format(idx, sufficient_expl[idx][1:]))"
   ]
  }
 ],
 "metadata": {
  "kernelspec": {
   "display_name": "Python 3",
   "language": "python",
   "name": "python3"
  },
  "language_info": {
   "codemirror_mode": {
    "name": "ipython",
    "version": 3
   },
   "file_extension": ".py",
   "mimetype": "text/x-python",
   "name": "python",
   "nbconvert_exporter": "python",
   "pygments_lexer": "ipython3",
   "version": "3.6.13"
  }
 },
 "nbformat": 4,
 "nbformat_minor": 5
}
